{
  "nbformat": 4,
  "nbformat_minor": 0,
  "metadata": {
    "colab": {
      "provenance": [],
      "collapsed_sections": [
        "m9yhneMOs3GE",
        "0lVin7XiHMzR",
        "xuISVPfCv4wU",
        "2e7DDz6V0WLF"
      ],
      "gpuType": "A100"
    },
    "kernelspec": {
      "name": "python3",
      "display_name": "Python 3"
    },
    "language_info": {
      "name": "python"
    },
    "widgets": {
      "application/vnd.jupyter.widget-state+json": {
        "491b2ef57c8f4cc59245cf3d1625f7f7": {
          "model_module": "@jupyter-widgets/controls",
          "model_name": "HBoxModel",
          "model_module_version": "1.5.0",
          "state": {
            "_dom_classes": [],
            "_model_module": "@jupyter-widgets/controls",
            "_model_module_version": "1.5.0",
            "_model_name": "HBoxModel",
            "_view_count": null,
            "_view_module": "@jupyter-widgets/controls",
            "_view_module_version": "1.5.0",
            "_view_name": "HBoxView",
            "box_style": "",
            "children": [
              "IPY_MODEL_b581e9f6ce2c4c77b8754db9e9e763a4",
              "IPY_MODEL_8c3b2173b63a45a291bcd3b2b81269bc",
              "IPY_MODEL_2c8bd1568ca14f22aa9230dbb6e4c1c2"
            ],
            "layout": "IPY_MODEL_d49e29fad58f46fe91f4034ff7d082d8"
          }
        },
        "b581e9f6ce2c4c77b8754db9e9e763a4": {
          "model_module": "@jupyter-widgets/controls",
          "model_name": "HTMLModel",
          "model_module_version": "1.5.0",
          "state": {
            "_dom_classes": [],
            "_model_module": "@jupyter-widgets/controls",
            "_model_module_version": "1.5.0",
            "_model_name": "HTMLModel",
            "_view_count": null,
            "_view_module": "@jupyter-widgets/controls",
            "_view_module_version": "1.5.0",
            "_view_name": "HTMLView",
            "description": "",
            "description_tooltip": null,
            "layout": "IPY_MODEL_d79bb107f6294ce082e6353d68159276",
            "placeholder": "​",
            "style": "IPY_MODEL_db918614add94b76aa64f1f4169dc21c",
            "value": "README.md: 100%"
          }
        },
        "8c3b2173b63a45a291bcd3b2b81269bc": {
          "model_module": "@jupyter-widgets/controls",
          "model_name": "FloatProgressModel",
          "model_module_version": "1.5.0",
          "state": {
            "_dom_classes": [],
            "_model_module": "@jupyter-widgets/controls",
            "_model_module_version": "1.5.0",
            "_model_name": "FloatProgressModel",
            "_view_count": null,
            "_view_module": "@jupyter-widgets/controls",
            "_view_module_version": "1.5.0",
            "_view_name": "ProgressView",
            "bar_style": "success",
            "description": "",
            "description_tooltip": null,
            "layout": "IPY_MODEL_2b228e381a344c8aad6795e6f095d079",
            "max": 2499,
            "min": 0,
            "orientation": "horizontal",
            "style": "IPY_MODEL_fe8cc5d489e14dab8a8fa2ffcd5d9d06",
            "value": 2499
          }
        },
        "2c8bd1568ca14f22aa9230dbb6e4c1c2": {
          "model_module": "@jupyter-widgets/controls",
          "model_name": "HTMLModel",
          "model_module_version": "1.5.0",
          "state": {
            "_dom_classes": [],
            "_model_module": "@jupyter-widgets/controls",
            "_model_module_version": "1.5.0",
            "_model_name": "HTMLModel",
            "_view_count": null,
            "_view_module": "@jupyter-widgets/controls",
            "_view_module_version": "1.5.0",
            "_view_name": "HTMLView",
            "description": "",
            "description_tooltip": null,
            "layout": "IPY_MODEL_3db9cec75b1844a5a6815789930d711e",
            "placeholder": "​",
            "style": "IPY_MODEL_7d7b25b8034a43b3a00b523975ce0dfe",
            "value": " 2.50k/2.50k [00:00&lt;00:00, 212kB/s]"
          }
        },
        "d49e29fad58f46fe91f4034ff7d082d8": {
          "model_module": "@jupyter-widgets/base",
          "model_name": "LayoutModel",
          "model_module_version": "1.2.0",
          "state": {
            "_model_module": "@jupyter-widgets/base",
            "_model_module_version": "1.2.0",
            "_model_name": "LayoutModel",
            "_view_count": null,
            "_view_module": "@jupyter-widgets/base",
            "_view_module_version": "1.2.0",
            "_view_name": "LayoutView",
            "align_content": null,
            "align_items": null,
            "align_self": null,
            "border": null,
            "bottom": null,
            "display": null,
            "flex": null,
            "flex_flow": null,
            "grid_area": null,
            "grid_auto_columns": null,
            "grid_auto_flow": null,
            "grid_auto_rows": null,
            "grid_column": null,
            "grid_gap": null,
            "grid_row": null,
            "grid_template_areas": null,
            "grid_template_columns": null,
            "grid_template_rows": null,
            "height": null,
            "justify_content": null,
            "justify_items": null,
            "left": null,
            "margin": null,
            "max_height": null,
            "max_width": null,
            "min_height": null,
            "min_width": null,
            "object_fit": null,
            "object_position": null,
            "order": null,
            "overflow": null,
            "overflow_x": null,
            "overflow_y": null,
            "padding": null,
            "right": null,
            "top": null,
            "visibility": null,
            "width": null
          }
        },
        "d79bb107f6294ce082e6353d68159276": {
          "model_module": "@jupyter-widgets/base",
          "model_name": "LayoutModel",
          "model_module_version": "1.2.0",
          "state": {
            "_model_module": "@jupyter-widgets/base",
            "_model_module_version": "1.2.0",
            "_model_name": "LayoutModel",
            "_view_count": null,
            "_view_module": "@jupyter-widgets/base",
            "_view_module_version": "1.2.0",
            "_view_name": "LayoutView",
            "align_content": null,
            "align_items": null,
            "align_self": null,
            "border": null,
            "bottom": null,
            "display": null,
            "flex": null,
            "flex_flow": null,
            "grid_area": null,
            "grid_auto_columns": null,
            "grid_auto_flow": null,
            "grid_auto_rows": null,
            "grid_column": null,
            "grid_gap": null,
            "grid_row": null,
            "grid_template_areas": null,
            "grid_template_columns": null,
            "grid_template_rows": null,
            "height": null,
            "justify_content": null,
            "justify_items": null,
            "left": null,
            "margin": null,
            "max_height": null,
            "max_width": null,
            "min_height": null,
            "min_width": null,
            "object_fit": null,
            "object_position": null,
            "order": null,
            "overflow": null,
            "overflow_x": null,
            "overflow_y": null,
            "padding": null,
            "right": null,
            "top": null,
            "visibility": null,
            "width": null
          }
        },
        "db918614add94b76aa64f1f4169dc21c": {
          "model_module": "@jupyter-widgets/controls",
          "model_name": "DescriptionStyleModel",
          "model_module_version": "1.5.0",
          "state": {
            "_model_module": "@jupyter-widgets/controls",
            "_model_module_version": "1.5.0",
            "_model_name": "DescriptionStyleModel",
            "_view_count": null,
            "_view_module": "@jupyter-widgets/base",
            "_view_module_version": "1.2.0",
            "_view_name": "StyleView",
            "description_width": ""
          }
        },
        "2b228e381a344c8aad6795e6f095d079": {
          "model_module": "@jupyter-widgets/base",
          "model_name": "LayoutModel",
          "model_module_version": "1.2.0",
          "state": {
            "_model_module": "@jupyter-widgets/base",
            "_model_module_version": "1.2.0",
            "_model_name": "LayoutModel",
            "_view_count": null,
            "_view_module": "@jupyter-widgets/base",
            "_view_module_version": "1.2.0",
            "_view_name": "LayoutView",
            "align_content": null,
            "align_items": null,
            "align_self": null,
            "border": null,
            "bottom": null,
            "display": null,
            "flex": null,
            "flex_flow": null,
            "grid_area": null,
            "grid_auto_columns": null,
            "grid_auto_flow": null,
            "grid_auto_rows": null,
            "grid_column": null,
            "grid_gap": null,
            "grid_row": null,
            "grid_template_areas": null,
            "grid_template_columns": null,
            "grid_template_rows": null,
            "height": null,
            "justify_content": null,
            "justify_items": null,
            "left": null,
            "margin": null,
            "max_height": null,
            "max_width": null,
            "min_height": null,
            "min_width": null,
            "object_fit": null,
            "object_position": null,
            "order": null,
            "overflow": null,
            "overflow_x": null,
            "overflow_y": null,
            "padding": null,
            "right": null,
            "top": null,
            "visibility": null,
            "width": null
          }
        },
        "fe8cc5d489e14dab8a8fa2ffcd5d9d06": {
          "model_module": "@jupyter-widgets/controls",
          "model_name": "ProgressStyleModel",
          "model_module_version": "1.5.0",
          "state": {
            "_model_module": "@jupyter-widgets/controls",
            "_model_module_version": "1.5.0",
            "_model_name": "ProgressStyleModel",
            "_view_count": null,
            "_view_module": "@jupyter-widgets/base",
            "_view_module_version": "1.2.0",
            "_view_name": "StyleView",
            "bar_color": null,
            "description_width": ""
          }
        },
        "3db9cec75b1844a5a6815789930d711e": {
          "model_module": "@jupyter-widgets/base",
          "model_name": "LayoutModel",
          "model_module_version": "1.2.0",
          "state": {
            "_model_module": "@jupyter-widgets/base",
            "_model_module_version": "1.2.0",
            "_model_name": "LayoutModel",
            "_view_count": null,
            "_view_module": "@jupyter-widgets/base",
            "_view_module_version": "1.2.0",
            "_view_name": "LayoutView",
            "align_content": null,
            "align_items": null,
            "align_self": null,
            "border": null,
            "bottom": null,
            "display": null,
            "flex": null,
            "flex_flow": null,
            "grid_area": null,
            "grid_auto_columns": null,
            "grid_auto_flow": null,
            "grid_auto_rows": null,
            "grid_column": null,
            "grid_gap": null,
            "grid_row": null,
            "grid_template_areas": null,
            "grid_template_columns": null,
            "grid_template_rows": null,
            "height": null,
            "justify_content": null,
            "justify_items": null,
            "left": null,
            "margin": null,
            "max_height": null,
            "max_width": null,
            "min_height": null,
            "min_width": null,
            "object_fit": null,
            "object_position": null,
            "order": null,
            "overflow": null,
            "overflow_x": null,
            "overflow_y": null,
            "padding": null,
            "right": null,
            "top": null,
            "visibility": null,
            "width": null
          }
        },
        "7d7b25b8034a43b3a00b523975ce0dfe": {
          "model_module": "@jupyter-widgets/controls",
          "model_name": "DescriptionStyleModel",
          "model_module_version": "1.5.0",
          "state": {
            "_model_module": "@jupyter-widgets/controls",
            "_model_module_version": "1.5.0",
            "_model_name": "DescriptionStyleModel",
            "_view_count": null,
            "_view_module": "@jupyter-widgets/base",
            "_view_module_version": "1.2.0",
            "_view_name": "StyleView",
            "description_width": ""
          }
        },
        "8d755535df6940dd8b4f1023bb2688dd": {
          "model_module": "@jupyter-widgets/controls",
          "model_name": "HBoxModel",
          "model_module_version": "1.5.0",
          "state": {
            "_dom_classes": [],
            "_model_module": "@jupyter-widgets/controls",
            "_model_module_version": "1.5.0",
            "_model_name": "HBoxModel",
            "_view_count": null,
            "_view_module": "@jupyter-widgets/controls",
            "_view_module_version": "1.5.0",
            "_view_name": "HBoxView",
            "box_style": "",
            "children": [
              "IPY_MODEL_18db5cd88bf549c9886a8fec4d5beec8",
              "IPY_MODEL_efe9c696ab0d4ae786a6e8f0e4199b78",
              "IPY_MODEL_1d7a9c36f0b54bdc8355f8cfb53c52a4"
            ],
            "layout": "IPY_MODEL_74dbeedd8d4c45758c10f14670695d16"
          }
        },
        "18db5cd88bf549c9886a8fec4d5beec8": {
          "model_module": "@jupyter-widgets/controls",
          "model_name": "HTMLModel",
          "model_module_version": "1.5.0",
          "state": {
            "_dom_classes": [],
            "_model_module": "@jupyter-widgets/controls",
            "_model_module_version": "1.5.0",
            "_model_name": "HTMLModel",
            "_view_count": null,
            "_view_module": "@jupyter-widgets/controls",
            "_view_module_version": "1.5.0",
            "_view_name": "HTMLView",
            "description": "",
            "description_tooltip": null,
            "layout": "IPY_MODEL_d35a718024124ca2a102e93f68ede6de",
            "placeholder": "​",
            "style": "IPY_MODEL_cdf8c6396edc4c85acdfc2282d6f4f93",
            "value": "train-00000-of-00001.parquet: 100%"
          }
        },
        "efe9c696ab0d4ae786a6e8f0e4199b78": {
          "model_module": "@jupyter-widgets/controls",
          "model_name": "FloatProgressModel",
          "model_module_version": "1.5.0",
          "state": {
            "_dom_classes": [],
            "_model_module": "@jupyter-widgets/controls",
            "_model_module_version": "1.5.0",
            "_model_name": "FloatProgressModel",
            "_view_count": null,
            "_view_module": "@jupyter-widgets/controls",
            "_view_module_version": "1.5.0",
            "_view_name": "ProgressView",
            "bar_style": "success",
            "description": "",
            "description_tooltip": null,
            "layout": "IPY_MODEL_7af0c75f86974e20b87d6bc9dc1e6f1b",
            "max": 377611203,
            "min": 0,
            "orientation": "horizontal",
            "style": "IPY_MODEL_c0d7d90921644929b8527da6ee2f82f9",
            "value": 377611203
          }
        },
        "1d7a9c36f0b54bdc8355f8cfb53c52a4": {
          "model_module": "@jupyter-widgets/controls",
          "model_name": "HTMLModel",
          "model_module_version": "1.5.0",
          "state": {
            "_dom_classes": [],
            "_model_module": "@jupyter-widgets/controls",
            "_model_module_version": "1.5.0",
            "_model_name": "HTMLModel",
            "_view_count": null,
            "_view_module": "@jupyter-widgets/controls",
            "_view_module_version": "1.5.0",
            "_view_name": "HTMLView",
            "description": "",
            "description_tooltip": null,
            "layout": "IPY_MODEL_04c7a325f10444a9b89581ff945f896f",
            "placeholder": "​",
            "style": "IPY_MODEL_98b1f27c1a6745e29fd1a7c9672bb1be",
            "value": " 378M/378M [00:01&lt;00:00, 431MB/s]"
          }
        },
        "74dbeedd8d4c45758c10f14670695d16": {
          "model_module": "@jupyter-widgets/base",
          "model_name": "LayoutModel",
          "model_module_version": "1.2.0",
          "state": {
            "_model_module": "@jupyter-widgets/base",
            "_model_module_version": "1.2.0",
            "_model_name": "LayoutModel",
            "_view_count": null,
            "_view_module": "@jupyter-widgets/base",
            "_view_module_version": "1.2.0",
            "_view_name": "LayoutView",
            "align_content": null,
            "align_items": null,
            "align_self": null,
            "border": null,
            "bottom": null,
            "display": null,
            "flex": null,
            "flex_flow": null,
            "grid_area": null,
            "grid_auto_columns": null,
            "grid_auto_flow": null,
            "grid_auto_rows": null,
            "grid_column": null,
            "grid_gap": null,
            "grid_row": null,
            "grid_template_areas": null,
            "grid_template_columns": null,
            "grid_template_rows": null,
            "height": null,
            "justify_content": null,
            "justify_items": null,
            "left": null,
            "margin": null,
            "max_height": null,
            "max_width": null,
            "min_height": null,
            "min_width": null,
            "object_fit": null,
            "object_position": null,
            "order": null,
            "overflow": null,
            "overflow_x": null,
            "overflow_y": null,
            "padding": null,
            "right": null,
            "top": null,
            "visibility": null,
            "width": null
          }
        },
        "d35a718024124ca2a102e93f68ede6de": {
          "model_module": "@jupyter-widgets/base",
          "model_name": "LayoutModel",
          "model_module_version": "1.2.0",
          "state": {
            "_model_module": "@jupyter-widgets/base",
            "_model_module_version": "1.2.0",
            "_model_name": "LayoutModel",
            "_view_count": null,
            "_view_module": "@jupyter-widgets/base",
            "_view_module_version": "1.2.0",
            "_view_name": "LayoutView",
            "align_content": null,
            "align_items": null,
            "align_self": null,
            "border": null,
            "bottom": null,
            "display": null,
            "flex": null,
            "flex_flow": null,
            "grid_area": null,
            "grid_auto_columns": null,
            "grid_auto_flow": null,
            "grid_auto_rows": null,
            "grid_column": null,
            "grid_gap": null,
            "grid_row": null,
            "grid_template_areas": null,
            "grid_template_columns": null,
            "grid_template_rows": null,
            "height": null,
            "justify_content": null,
            "justify_items": null,
            "left": null,
            "margin": null,
            "max_height": null,
            "max_width": null,
            "min_height": null,
            "min_width": null,
            "object_fit": null,
            "object_position": null,
            "order": null,
            "overflow": null,
            "overflow_x": null,
            "overflow_y": null,
            "padding": null,
            "right": null,
            "top": null,
            "visibility": null,
            "width": null
          }
        },
        "cdf8c6396edc4c85acdfc2282d6f4f93": {
          "model_module": "@jupyter-widgets/controls",
          "model_name": "DescriptionStyleModel",
          "model_module_version": "1.5.0",
          "state": {
            "_model_module": "@jupyter-widgets/controls",
            "_model_module_version": "1.5.0",
            "_model_name": "DescriptionStyleModel",
            "_view_count": null,
            "_view_module": "@jupyter-widgets/base",
            "_view_module_version": "1.2.0",
            "_view_name": "StyleView",
            "description_width": ""
          }
        },
        "7af0c75f86974e20b87d6bc9dc1e6f1b": {
          "model_module": "@jupyter-widgets/base",
          "model_name": "LayoutModel",
          "model_module_version": "1.2.0",
          "state": {
            "_model_module": "@jupyter-widgets/base",
            "_model_module_version": "1.2.0",
            "_model_name": "LayoutModel",
            "_view_count": null,
            "_view_module": "@jupyter-widgets/base",
            "_view_module_version": "1.2.0",
            "_view_name": "LayoutView",
            "align_content": null,
            "align_items": null,
            "align_self": null,
            "border": null,
            "bottom": null,
            "display": null,
            "flex": null,
            "flex_flow": null,
            "grid_area": null,
            "grid_auto_columns": null,
            "grid_auto_flow": null,
            "grid_auto_rows": null,
            "grid_column": null,
            "grid_gap": null,
            "grid_row": null,
            "grid_template_areas": null,
            "grid_template_columns": null,
            "grid_template_rows": null,
            "height": null,
            "justify_content": null,
            "justify_items": null,
            "left": null,
            "margin": null,
            "max_height": null,
            "max_width": null,
            "min_height": null,
            "min_width": null,
            "object_fit": null,
            "object_position": null,
            "order": null,
            "overflow": null,
            "overflow_x": null,
            "overflow_y": null,
            "padding": null,
            "right": null,
            "top": null,
            "visibility": null,
            "width": null
          }
        },
        "c0d7d90921644929b8527da6ee2f82f9": {
          "model_module": "@jupyter-widgets/controls",
          "model_name": "ProgressStyleModel",
          "model_module_version": "1.5.0",
          "state": {
            "_model_module": "@jupyter-widgets/controls",
            "_model_module_version": "1.5.0",
            "_model_name": "ProgressStyleModel",
            "_view_count": null,
            "_view_module": "@jupyter-widgets/base",
            "_view_module_version": "1.2.0",
            "_view_name": "StyleView",
            "bar_color": null,
            "description_width": ""
          }
        },
        "04c7a325f10444a9b89581ff945f896f": {
          "model_module": "@jupyter-widgets/base",
          "model_name": "LayoutModel",
          "model_module_version": "1.2.0",
          "state": {
            "_model_module": "@jupyter-widgets/base",
            "_model_module_version": "1.2.0",
            "_model_name": "LayoutModel",
            "_view_count": null,
            "_view_module": "@jupyter-widgets/base",
            "_view_module_version": "1.2.0",
            "_view_name": "LayoutView",
            "align_content": null,
            "align_items": null,
            "align_self": null,
            "border": null,
            "bottom": null,
            "display": null,
            "flex": null,
            "flex_flow": null,
            "grid_area": null,
            "grid_auto_columns": null,
            "grid_auto_flow": null,
            "grid_auto_rows": null,
            "grid_column": null,
            "grid_gap": null,
            "grid_row": null,
            "grid_template_areas": null,
            "grid_template_columns": null,
            "grid_template_rows": null,
            "height": null,
            "justify_content": null,
            "justify_items": null,
            "left": null,
            "margin": null,
            "max_height": null,
            "max_width": null,
            "min_height": null,
            "min_width": null,
            "object_fit": null,
            "object_position": null,
            "order": null,
            "overflow": null,
            "overflow_x": null,
            "overflow_y": null,
            "padding": null,
            "right": null,
            "top": null,
            "visibility": null,
            "width": null
          }
        },
        "98b1f27c1a6745e29fd1a7c9672bb1be": {
          "model_module": "@jupyter-widgets/controls",
          "model_name": "DescriptionStyleModel",
          "model_module_version": "1.5.0",
          "state": {
            "_model_module": "@jupyter-widgets/controls",
            "_model_module_version": "1.5.0",
            "_model_name": "DescriptionStyleModel",
            "_view_count": null,
            "_view_module": "@jupyter-widgets/base",
            "_view_module_version": "1.2.0",
            "_view_name": "StyleView",
            "description_width": ""
          }
        },
        "49486ec77fbe4ec4b5ce5c694b3c4abc": {
          "model_module": "@jupyter-widgets/controls",
          "model_name": "HBoxModel",
          "model_module_version": "1.5.0",
          "state": {
            "_dom_classes": [],
            "_model_module": "@jupyter-widgets/controls",
            "_model_module_version": "1.5.0",
            "_model_name": "HBoxModel",
            "_view_count": null,
            "_view_module": "@jupyter-widgets/controls",
            "_view_module_version": "1.5.0",
            "_view_name": "HBoxView",
            "box_style": "",
            "children": [
              "IPY_MODEL_21dfa5ca4d2746b6a8f89eac8f06736b",
              "IPY_MODEL_d0de942946754aee87469952b04d3d49",
              "IPY_MODEL_998d71139d324a03ab1a68b3d6712ccd"
            ],
            "layout": "IPY_MODEL_4aa840a9d4ea49a69c0c8ad7bb43b368"
          }
        },
        "21dfa5ca4d2746b6a8f89eac8f06736b": {
          "model_module": "@jupyter-widgets/controls",
          "model_name": "HTMLModel",
          "model_module_version": "1.5.0",
          "state": {
            "_dom_classes": [],
            "_model_module": "@jupyter-widgets/controls",
            "_model_module_version": "1.5.0",
            "_model_name": "HTMLModel",
            "_view_count": null,
            "_view_module": "@jupyter-widgets/controls",
            "_view_module_version": "1.5.0",
            "_view_name": "HTMLView",
            "description": "",
            "description_tooltip": null,
            "layout": "IPY_MODEL_4a6a508ed3e5448aa80d85a6a1ad1d40",
            "placeholder": "​",
            "style": "IPY_MODEL_00b5ff5883564117a4cc030975f23b42",
            "value": "test-00000-of-00001.parquet: 100%"
          }
        },
        "d0de942946754aee87469952b04d3d49": {
          "model_module": "@jupyter-widgets/controls",
          "model_name": "FloatProgressModel",
          "model_module_version": "1.5.0",
          "state": {
            "_dom_classes": [],
            "_model_module": "@jupyter-widgets/controls",
            "_model_module_version": "1.5.0",
            "_model_name": "FloatProgressModel",
            "_view_count": null,
            "_view_module": "@jupyter-widgets/controls",
            "_view_module_version": "1.5.0",
            "_view_name": "ProgressView",
            "bar_style": "success",
            "description": "",
            "description_tooltip": null,
            "layout": "IPY_MODEL_874baf0f03fe4e9aaddbe289c2067911",
            "max": 412654113,
            "min": 0,
            "orientation": "horizontal",
            "style": "IPY_MODEL_98de632bbb4f4ffbaa65f24491117ac9",
            "value": 412654113
          }
        },
        "998d71139d324a03ab1a68b3d6712ccd": {
          "model_module": "@jupyter-widgets/controls",
          "model_name": "HTMLModel",
          "model_module_version": "1.5.0",
          "state": {
            "_dom_classes": [],
            "_model_module": "@jupyter-widgets/controls",
            "_model_module_version": "1.5.0",
            "_model_name": "HTMLModel",
            "_view_count": null,
            "_view_module": "@jupyter-widgets/controls",
            "_view_module_version": "1.5.0",
            "_view_name": "HTMLView",
            "description": "",
            "description_tooltip": null,
            "layout": "IPY_MODEL_242b1023ceaf468d8229e51837ff7811",
            "placeholder": "​",
            "style": "IPY_MODEL_be47c847dccd44bf9b1b079b8ba46f2a",
            "value": " 413M/413M [00:00&lt;00:00, 447MB/s]"
          }
        },
        "4aa840a9d4ea49a69c0c8ad7bb43b368": {
          "model_module": "@jupyter-widgets/base",
          "model_name": "LayoutModel",
          "model_module_version": "1.2.0",
          "state": {
            "_model_module": "@jupyter-widgets/base",
            "_model_module_version": "1.2.0",
            "_model_name": "LayoutModel",
            "_view_count": null,
            "_view_module": "@jupyter-widgets/base",
            "_view_module_version": "1.2.0",
            "_view_name": "LayoutView",
            "align_content": null,
            "align_items": null,
            "align_self": null,
            "border": null,
            "bottom": null,
            "display": null,
            "flex": null,
            "flex_flow": null,
            "grid_area": null,
            "grid_auto_columns": null,
            "grid_auto_flow": null,
            "grid_auto_rows": null,
            "grid_column": null,
            "grid_gap": null,
            "grid_row": null,
            "grid_template_areas": null,
            "grid_template_columns": null,
            "grid_template_rows": null,
            "height": null,
            "justify_content": null,
            "justify_items": null,
            "left": null,
            "margin": null,
            "max_height": null,
            "max_width": null,
            "min_height": null,
            "min_width": null,
            "object_fit": null,
            "object_position": null,
            "order": null,
            "overflow": null,
            "overflow_x": null,
            "overflow_y": null,
            "padding": null,
            "right": null,
            "top": null,
            "visibility": null,
            "width": null
          }
        },
        "4a6a508ed3e5448aa80d85a6a1ad1d40": {
          "model_module": "@jupyter-widgets/base",
          "model_name": "LayoutModel",
          "model_module_version": "1.2.0",
          "state": {
            "_model_module": "@jupyter-widgets/base",
            "_model_module_version": "1.2.0",
            "_model_name": "LayoutModel",
            "_view_count": null,
            "_view_module": "@jupyter-widgets/base",
            "_view_module_version": "1.2.0",
            "_view_name": "LayoutView",
            "align_content": null,
            "align_items": null,
            "align_self": null,
            "border": null,
            "bottom": null,
            "display": null,
            "flex": null,
            "flex_flow": null,
            "grid_area": null,
            "grid_auto_columns": null,
            "grid_auto_flow": null,
            "grid_auto_rows": null,
            "grid_column": null,
            "grid_gap": null,
            "grid_row": null,
            "grid_template_areas": null,
            "grid_template_columns": null,
            "grid_template_rows": null,
            "height": null,
            "justify_content": null,
            "justify_items": null,
            "left": null,
            "margin": null,
            "max_height": null,
            "max_width": null,
            "min_height": null,
            "min_width": null,
            "object_fit": null,
            "object_position": null,
            "order": null,
            "overflow": null,
            "overflow_x": null,
            "overflow_y": null,
            "padding": null,
            "right": null,
            "top": null,
            "visibility": null,
            "width": null
          }
        },
        "00b5ff5883564117a4cc030975f23b42": {
          "model_module": "@jupyter-widgets/controls",
          "model_name": "DescriptionStyleModel",
          "model_module_version": "1.5.0",
          "state": {
            "_model_module": "@jupyter-widgets/controls",
            "_model_module_version": "1.5.0",
            "_model_name": "DescriptionStyleModel",
            "_view_count": null,
            "_view_module": "@jupyter-widgets/base",
            "_view_module_version": "1.2.0",
            "_view_name": "StyleView",
            "description_width": ""
          }
        },
        "874baf0f03fe4e9aaddbe289c2067911": {
          "model_module": "@jupyter-widgets/base",
          "model_name": "LayoutModel",
          "model_module_version": "1.2.0",
          "state": {
            "_model_module": "@jupyter-widgets/base",
            "_model_module_version": "1.2.0",
            "_model_name": "LayoutModel",
            "_view_count": null,
            "_view_module": "@jupyter-widgets/base",
            "_view_module_version": "1.2.0",
            "_view_name": "LayoutView",
            "align_content": null,
            "align_items": null,
            "align_self": null,
            "border": null,
            "bottom": null,
            "display": null,
            "flex": null,
            "flex_flow": null,
            "grid_area": null,
            "grid_auto_columns": null,
            "grid_auto_flow": null,
            "grid_auto_rows": null,
            "grid_column": null,
            "grid_gap": null,
            "grid_row": null,
            "grid_template_areas": null,
            "grid_template_columns": null,
            "grid_template_rows": null,
            "height": null,
            "justify_content": null,
            "justify_items": null,
            "left": null,
            "margin": null,
            "max_height": null,
            "max_width": null,
            "min_height": null,
            "min_width": null,
            "object_fit": null,
            "object_position": null,
            "order": null,
            "overflow": null,
            "overflow_x": null,
            "overflow_y": null,
            "padding": null,
            "right": null,
            "top": null,
            "visibility": null,
            "width": null
          }
        },
        "98de632bbb4f4ffbaa65f24491117ac9": {
          "model_module": "@jupyter-widgets/controls",
          "model_name": "ProgressStyleModel",
          "model_module_version": "1.5.0",
          "state": {
            "_model_module": "@jupyter-widgets/controls",
            "_model_module_version": "1.5.0",
            "_model_name": "ProgressStyleModel",
            "_view_count": null,
            "_view_module": "@jupyter-widgets/base",
            "_view_module_version": "1.2.0",
            "_view_name": "StyleView",
            "bar_color": null,
            "description_width": ""
          }
        },
        "242b1023ceaf468d8229e51837ff7811": {
          "model_module": "@jupyter-widgets/base",
          "model_name": "LayoutModel",
          "model_module_version": "1.2.0",
          "state": {
            "_model_module": "@jupyter-widgets/base",
            "_model_module_version": "1.2.0",
            "_model_name": "LayoutModel",
            "_view_count": null,
            "_view_module": "@jupyter-widgets/base",
            "_view_module_version": "1.2.0",
            "_view_name": "LayoutView",
            "align_content": null,
            "align_items": null,
            "align_self": null,
            "border": null,
            "bottom": null,
            "display": null,
            "flex": null,
            "flex_flow": null,
            "grid_area": null,
            "grid_auto_columns": null,
            "grid_auto_flow": null,
            "grid_auto_rows": null,
            "grid_column": null,
            "grid_gap": null,
            "grid_row": null,
            "grid_template_areas": null,
            "grid_template_columns": null,
            "grid_template_rows": null,
            "height": null,
            "justify_content": null,
            "justify_items": null,
            "left": null,
            "margin": null,
            "max_height": null,
            "max_width": null,
            "min_height": null,
            "min_width": null,
            "object_fit": null,
            "object_position": null,
            "order": null,
            "overflow": null,
            "overflow_x": null,
            "overflow_y": null,
            "padding": null,
            "right": null,
            "top": null,
            "visibility": null,
            "width": null
          }
        },
        "be47c847dccd44bf9b1b079b8ba46f2a": {
          "model_module": "@jupyter-widgets/controls",
          "model_name": "DescriptionStyleModel",
          "model_module_version": "1.5.0",
          "state": {
            "_model_module": "@jupyter-widgets/controls",
            "_model_module_version": "1.5.0",
            "_model_name": "DescriptionStyleModel",
            "_view_count": null,
            "_view_module": "@jupyter-widgets/base",
            "_view_module_version": "1.2.0",
            "_view_name": "StyleView",
            "description_width": ""
          }
        },
        "cf44a34dcbaf4285ae6f5e26e20cd7bc": {
          "model_module": "@jupyter-widgets/controls",
          "model_name": "HBoxModel",
          "model_module_version": "1.5.0",
          "state": {
            "_dom_classes": [],
            "_model_module": "@jupyter-widgets/controls",
            "_model_module_version": "1.5.0",
            "_model_name": "HBoxModel",
            "_view_count": null,
            "_view_module": "@jupyter-widgets/controls",
            "_view_module_version": "1.5.0",
            "_view_name": "HBoxView",
            "box_style": "",
            "children": [
              "IPY_MODEL_a2eade6bcd424e7f9ef749b4e7952ee7",
              "IPY_MODEL_51be6d77637f43f6aab01e5b858b367a",
              "IPY_MODEL_dabd469ec1b14595a454d9662ab8070c"
            ],
            "layout": "IPY_MODEL_756b2f2e5402463189b764242c121f00"
          }
        },
        "a2eade6bcd424e7f9ef749b4e7952ee7": {
          "model_module": "@jupyter-widgets/controls",
          "model_name": "HTMLModel",
          "model_module_version": "1.5.0",
          "state": {
            "_dom_classes": [],
            "_model_module": "@jupyter-widgets/controls",
            "_model_module_version": "1.5.0",
            "_model_name": "HTMLModel",
            "_view_count": null,
            "_view_module": "@jupyter-widgets/controls",
            "_view_module_version": "1.5.0",
            "_view_name": "HTMLView",
            "description": "",
            "description_tooltip": null,
            "layout": "IPY_MODEL_e19ea9f2aafb498daccd4d8265915099",
            "placeholder": "​",
            "style": "IPY_MODEL_931b268298ae43028eea462817eade64",
            "value": "Generating train split: 100%"
          }
        },
        "51be6d77637f43f6aab01e5b858b367a": {
          "model_module": "@jupyter-widgets/controls",
          "model_name": "FloatProgressModel",
          "model_module_version": "1.5.0",
          "state": {
            "_dom_classes": [],
            "_model_module": "@jupyter-widgets/controls",
            "_model_module_version": "1.5.0",
            "_model_name": "FloatProgressModel",
            "_view_count": null,
            "_view_module": "@jupyter-widgets/controls",
            "_view_module_version": "1.5.0",
            "_view_name": "ProgressView",
            "bar_style": "success",
            "description": "",
            "description_tooltip": null,
            "layout": "IPY_MODEL_79259fbd6627417ca93c6af7e37007ee",
            "max": 3680,
            "min": 0,
            "orientation": "horizontal",
            "style": "IPY_MODEL_ba9ac4027f914ebd9cb53523209e748e",
            "value": 3680
          }
        },
        "dabd469ec1b14595a454d9662ab8070c": {
          "model_module": "@jupyter-widgets/controls",
          "model_name": "HTMLModel",
          "model_module_version": "1.5.0",
          "state": {
            "_dom_classes": [],
            "_model_module": "@jupyter-widgets/controls",
            "_model_module_version": "1.5.0",
            "_model_name": "HTMLModel",
            "_view_count": null,
            "_view_module": "@jupyter-widgets/controls",
            "_view_module_version": "1.5.0",
            "_view_name": "HTMLView",
            "description": "",
            "description_tooltip": null,
            "layout": "IPY_MODEL_3888bfff101c443b88339452e09c018b",
            "placeholder": "​",
            "style": "IPY_MODEL_f3a5697381ce40b89568394f98801014",
            "value": " 3680/3680 [00:01&lt;00:00, 3903.19 examples/s]"
          }
        },
        "756b2f2e5402463189b764242c121f00": {
          "model_module": "@jupyter-widgets/base",
          "model_name": "LayoutModel",
          "model_module_version": "1.2.0",
          "state": {
            "_model_module": "@jupyter-widgets/base",
            "_model_module_version": "1.2.0",
            "_model_name": "LayoutModel",
            "_view_count": null,
            "_view_module": "@jupyter-widgets/base",
            "_view_module_version": "1.2.0",
            "_view_name": "LayoutView",
            "align_content": null,
            "align_items": null,
            "align_self": null,
            "border": null,
            "bottom": null,
            "display": null,
            "flex": null,
            "flex_flow": null,
            "grid_area": null,
            "grid_auto_columns": null,
            "grid_auto_flow": null,
            "grid_auto_rows": null,
            "grid_column": null,
            "grid_gap": null,
            "grid_row": null,
            "grid_template_areas": null,
            "grid_template_columns": null,
            "grid_template_rows": null,
            "height": null,
            "justify_content": null,
            "justify_items": null,
            "left": null,
            "margin": null,
            "max_height": null,
            "max_width": null,
            "min_height": null,
            "min_width": null,
            "object_fit": null,
            "object_position": null,
            "order": null,
            "overflow": null,
            "overflow_x": null,
            "overflow_y": null,
            "padding": null,
            "right": null,
            "top": null,
            "visibility": null,
            "width": null
          }
        },
        "e19ea9f2aafb498daccd4d8265915099": {
          "model_module": "@jupyter-widgets/base",
          "model_name": "LayoutModel",
          "model_module_version": "1.2.0",
          "state": {
            "_model_module": "@jupyter-widgets/base",
            "_model_module_version": "1.2.0",
            "_model_name": "LayoutModel",
            "_view_count": null,
            "_view_module": "@jupyter-widgets/base",
            "_view_module_version": "1.2.0",
            "_view_name": "LayoutView",
            "align_content": null,
            "align_items": null,
            "align_self": null,
            "border": null,
            "bottom": null,
            "display": null,
            "flex": null,
            "flex_flow": null,
            "grid_area": null,
            "grid_auto_columns": null,
            "grid_auto_flow": null,
            "grid_auto_rows": null,
            "grid_column": null,
            "grid_gap": null,
            "grid_row": null,
            "grid_template_areas": null,
            "grid_template_columns": null,
            "grid_template_rows": null,
            "height": null,
            "justify_content": null,
            "justify_items": null,
            "left": null,
            "margin": null,
            "max_height": null,
            "max_width": null,
            "min_height": null,
            "min_width": null,
            "object_fit": null,
            "object_position": null,
            "order": null,
            "overflow": null,
            "overflow_x": null,
            "overflow_y": null,
            "padding": null,
            "right": null,
            "top": null,
            "visibility": null,
            "width": null
          }
        },
        "931b268298ae43028eea462817eade64": {
          "model_module": "@jupyter-widgets/controls",
          "model_name": "DescriptionStyleModel",
          "model_module_version": "1.5.0",
          "state": {
            "_model_module": "@jupyter-widgets/controls",
            "_model_module_version": "1.5.0",
            "_model_name": "DescriptionStyleModel",
            "_view_count": null,
            "_view_module": "@jupyter-widgets/base",
            "_view_module_version": "1.2.0",
            "_view_name": "StyleView",
            "description_width": ""
          }
        },
        "79259fbd6627417ca93c6af7e37007ee": {
          "model_module": "@jupyter-widgets/base",
          "model_name": "LayoutModel",
          "model_module_version": "1.2.0",
          "state": {
            "_model_module": "@jupyter-widgets/base",
            "_model_module_version": "1.2.0",
            "_model_name": "LayoutModel",
            "_view_count": null,
            "_view_module": "@jupyter-widgets/base",
            "_view_module_version": "1.2.0",
            "_view_name": "LayoutView",
            "align_content": null,
            "align_items": null,
            "align_self": null,
            "border": null,
            "bottom": null,
            "display": null,
            "flex": null,
            "flex_flow": null,
            "grid_area": null,
            "grid_auto_columns": null,
            "grid_auto_flow": null,
            "grid_auto_rows": null,
            "grid_column": null,
            "grid_gap": null,
            "grid_row": null,
            "grid_template_areas": null,
            "grid_template_columns": null,
            "grid_template_rows": null,
            "height": null,
            "justify_content": null,
            "justify_items": null,
            "left": null,
            "margin": null,
            "max_height": null,
            "max_width": null,
            "min_height": null,
            "min_width": null,
            "object_fit": null,
            "object_position": null,
            "order": null,
            "overflow": null,
            "overflow_x": null,
            "overflow_y": null,
            "padding": null,
            "right": null,
            "top": null,
            "visibility": null,
            "width": null
          }
        },
        "ba9ac4027f914ebd9cb53523209e748e": {
          "model_module": "@jupyter-widgets/controls",
          "model_name": "ProgressStyleModel",
          "model_module_version": "1.5.0",
          "state": {
            "_model_module": "@jupyter-widgets/controls",
            "_model_module_version": "1.5.0",
            "_model_name": "ProgressStyleModel",
            "_view_count": null,
            "_view_module": "@jupyter-widgets/base",
            "_view_module_version": "1.2.0",
            "_view_name": "StyleView",
            "bar_color": null,
            "description_width": ""
          }
        },
        "3888bfff101c443b88339452e09c018b": {
          "model_module": "@jupyter-widgets/base",
          "model_name": "LayoutModel",
          "model_module_version": "1.2.0",
          "state": {
            "_model_module": "@jupyter-widgets/base",
            "_model_module_version": "1.2.0",
            "_model_name": "LayoutModel",
            "_view_count": null,
            "_view_module": "@jupyter-widgets/base",
            "_view_module_version": "1.2.0",
            "_view_name": "LayoutView",
            "align_content": null,
            "align_items": null,
            "align_self": null,
            "border": null,
            "bottom": null,
            "display": null,
            "flex": null,
            "flex_flow": null,
            "grid_area": null,
            "grid_auto_columns": null,
            "grid_auto_flow": null,
            "grid_auto_rows": null,
            "grid_column": null,
            "grid_gap": null,
            "grid_row": null,
            "grid_template_areas": null,
            "grid_template_columns": null,
            "grid_template_rows": null,
            "height": null,
            "justify_content": null,
            "justify_items": null,
            "left": null,
            "margin": null,
            "max_height": null,
            "max_width": null,
            "min_height": null,
            "min_width": null,
            "object_fit": null,
            "object_position": null,
            "order": null,
            "overflow": null,
            "overflow_x": null,
            "overflow_y": null,
            "padding": null,
            "right": null,
            "top": null,
            "visibility": null,
            "width": null
          }
        },
        "f3a5697381ce40b89568394f98801014": {
          "model_module": "@jupyter-widgets/controls",
          "model_name": "DescriptionStyleModel",
          "model_module_version": "1.5.0",
          "state": {
            "_model_module": "@jupyter-widgets/controls",
            "_model_module_version": "1.5.0",
            "_model_name": "DescriptionStyleModel",
            "_view_count": null,
            "_view_module": "@jupyter-widgets/base",
            "_view_module_version": "1.2.0",
            "_view_name": "StyleView",
            "description_width": ""
          }
        },
        "4eb3527bd8c548ee908e1c461ca6863b": {
          "model_module": "@jupyter-widgets/controls",
          "model_name": "HBoxModel",
          "model_module_version": "1.5.0",
          "state": {
            "_dom_classes": [],
            "_model_module": "@jupyter-widgets/controls",
            "_model_module_version": "1.5.0",
            "_model_name": "HBoxModel",
            "_view_count": null,
            "_view_module": "@jupyter-widgets/controls",
            "_view_module_version": "1.5.0",
            "_view_name": "HBoxView",
            "box_style": "",
            "children": [
              "IPY_MODEL_58cac5c7fa734aeeab129e16906f2e5f",
              "IPY_MODEL_2ebddec6a4b34f82ad2515b194e5b73a",
              "IPY_MODEL_b5214b7276b84c4b844d0d123b996c97"
            ],
            "layout": "IPY_MODEL_68e2dc97a7b7459587d78c45eac79f71"
          }
        },
        "58cac5c7fa734aeeab129e16906f2e5f": {
          "model_module": "@jupyter-widgets/controls",
          "model_name": "HTMLModel",
          "model_module_version": "1.5.0",
          "state": {
            "_dom_classes": [],
            "_model_module": "@jupyter-widgets/controls",
            "_model_module_version": "1.5.0",
            "_model_name": "HTMLModel",
            "_view_count": null,
            "_view_module": "@jupyter-widgets/controls",
            "_view_module_version": "1.5.0",
            "_view_name": "HTMLView",
            "description": "",
            "description_tooltip": null,
            "layout": "IPY_MODEL_70e0509a177244eab817cf37a80fc786",
            "placeholder": "​",
            "style": "IPY_MODEL_597a9c7639284e4996ba20c3dbe97683",
            "value": "Generating test split: 100%"
          }
        },
        "2ebddec6a4b34f82ad2515b194e5b73a": {
          "model_module": "@jupyter-widgets/controls",
          "model_name": "FloatProgressModel",
          "model_module_version": "1.5.0",
          "state": {
            "_dom_classes": [],
            "_model_module": "@jupyter-widgets/controls",
            "_model_module_version": "1.5.0",
            "_model_name": "FloatProgressModel",
            "_view_count": null,
            "_view_module": "@jupyter-widgets/controls",
            "_view_module_version": "1.5.0",
            "_view_name": "ProgressView",
            "bar_style": "success",
            "description": "",
            "description_tooltip": null,
            "layout": "IPY_MODEL_f0716d1e06164a41bed765a5dfdab6d8",
            "max": 3669,
            "min": 0,
            "orientation": "horizontal",
            "style": "IPY_MODEL_aa0081b385134a5fad55b924bde8d849",
            "value": 3669
          }
        },
        "b5214b7276b84c4b844d0d123b996c97": {
          "model_module": "@jupyter-widgets/controls",
          "model_name": "HTMLModel",
          "model_module_version": "1.5.0",
          "state": {
            "_dom_classes": [],
            "_model_module": "@jupyter-widgets/controls",
            "_model_module_version": "1.5.0",
            "_model_name": "HTMLModel",
            "_view_count": null,
            "_view_module": "@jupyter-widgets/controls",
            "_view_module_version": "1.5.0",
            "_view_name": "HTMLView",
            "description": "",
            "description_tooltip": null,
            "layout": "IPY_MODEL_0ef2721fd1fb47739d6efa1fb81ebfe3",
            "placeholder": "​",
            "style": "IPY_MODEL_8f0c90e34e3140b98b2c68c47107248f",
            "value": " 3669/3669 [00:01&lt;00:00, 3030.90 examples/s]"
          }
        },
        "68e2dc97a7b7459587d78c45eac79f71": {
          "model_module": "@jupyter-widgets/base",
          "model_name": "LayoutModel",
          "model_module_version": "1.2.0",
          "state": {
            "_model_module": "@jupyter-widgets/base",
            "_model_module_version": "1.2.0",
            "_model_name": "LayoutModel",
            "_view_count": null,
            "_view_module": "@jupyter-widgets/base",
            "_view_module_version": "1.2.0",
            "_view_name": "LayoutView",
            "align_content": null,
            "align_items": null,
            "align_self": null,
            "border": null,
            "bottom": null,
            "display": null,
            "flex": null,
            "flex_flow": null,
            "grid_area": null,
            "grid_auto_columns": null,
            "grid_auto_flow": null,
            "grid_auto_rows": null,
            "grid_column": null,
            "grid_gap": null,
            "grid_row": null,
            "grid_template_areas": null,
            "grid_template_columns": null,
            "grid_template_rows": null,
            "height": null,
            "justify_content": null,
            "justify_items": null,
            "left": null,
            "margin": null,
            "max_height": null,
            "max_width": null,
            "min_height": null,
            "min_width": null,
            "object_fit": null,
            "object_position": null,
            "order": null,
            "overflow": null,
            "overflow_x": null,
            "overflow_y": null,
            "padding": null,
            "right": null,
            "top": null,
            "visibility": null,
            "width": null
          }
        },
        "70e0509a177244eab817cf37a80fc786": {
          "model_module": "@jupyter-widgets/base",
          "model_name": "LayoutModel",
          "model_module_version": "1.2.0",
          "state": {
            "_model_module": "@jupyter-widgets/base",
            "_model_module_version": "1.2.0",
            "_model_name": "LayoutModel",
            "_view_count": null,
            "_view_module": "@jupyter-widgets/base",
            "_view_module_version": "1.2.0",
            "_view_name": "LayoutView",
            "align_content": null,
            "align_items": null,
            "align_self": null,
            "border": null,
            "bottom": null,
            "display": null,
            "flex": null,
            "flex_flow": null,
            "grid_area": null,
            "grid_auto_columns": null,
            "grid_auto_flow": null,
            "grid_auto_rows": null,
            "grid_column": null,
            "grid_gap": null,
            "grid_row": null,
            "grid_template_areas": null,
            "grid_template_columns": null,
            "grid_template_rows": null,
            "height": null,
            "justify_content": null,
            "justify_items": null,
            "left": null,
            "margin": null,
            "max_height": null,
            "max_width": null,
            "min_height": null,
            "min_width": null,
            "object_fit": null,
            "object_position": null,
            "order": null,
            "overflow": null,
            "overflow_x": null,
            "overflow_y": null,
            "padding": null,
            "right": null,
            "top": null,
            "visibility": null,
            "width": null
          }
        },
        "597a9c7639284e4996ba20c3dbe97683": {
          "model_module": "@jupyter-widgets/controls",
          "model_name": "DescriptionStyleModel",
          "model_module_version": "1.5.0",
          "state": {
            "_model_module": "@jupyter-widgets/controls",
            "_model_module_version": "1.5.0",
            "_model_name": "DescriptionStyleModel",
            "_view_count": null,
            "_view_module": "@jupyter-widgets/base",
            "_view_module_version": "1.2.0",
            "_view_name": "StyleView",
            "description_width": ""
          }
        },
        "f0716d1e06164a41bed765a5dfdab6d8": {
          "model_module": "@jupyter-widgets/base",
          "model_name": "LayoutModel",
          "model_module_version": "1.2.0",
          "state": {
            "_model_module": "@jupyter-widgets/base",
            "_model_module_version": "1.2.0",
            "_model_name": "LayoutModel",
            "_view_count": null,
            "_view_module": "@jupyter-widgets/base",
            "_view_module_version": "1.2.0",
            "_view_name": "LayoutView",
            "align_content": null,
            "align_items": null,
            "align_self": null,
            "border": null,
            "bottom": null,
            "display": null,
            "flex": null,
            "flex_flow": null,
            "grid_area": null,
            "grid_auto_columns": null,
            "grid_auto_flow": null,
            "grid_auto_rows": null,
            "grid_column": null,
            "grid_gap": null,
            "grid_row": null,
            "grid_template_areas": null,
            "grid_template_columns": null,
            "grid_template_rows": null,
            "height": null,
            "justify_content": null,
            "justify_items": null,
            "left": null,
            "margin": null,
            "max_height": null,
            "max_width": null,
            "min_height": null,
            "min_width": null,
            "object_fit": null,
            "object_position": null,
            "order": null,
            "overflow": null,
            "overflow_x": null,
            "overflow_y": null,
            "padding": null,
            "right": null,
            "top": null,
            "visibility": null,
            "width": null
          }
        },
        "aa0081b385134a5fad55b924bde8d849": {
          "model_module": "@jupyter-widgets/controls",
          "model_name": "ProgressStyleModel",
          "model_module_version": "1.5.0",
          "state": {
            "_model_module": "@jupyter-widgets/controls",
            "_model_module_version": "1.5.0",
            "_model_name": "ProgressStyleModel",
            "_view_count": null,
            "_view_module": "@jupyter-widgets/base",
            "_view_module_version": "1.2.0",
            "_view_name": "StyleView",
            "bar_color": null,
            "description_width": ""
          }
        },
        "0ef2721fd1fb47739d6efa1fb81ebfe3": {
          "model_module": "@jupyter-widgets/base",
          "model_name": "LayoutModel",
          "model_module_version": "1.2.0",
          "state": {
            "_model_module": "@jupyter-widgets/base",
            "_model_module_version": "1.2.0",
            "_model_name": "LayoutModel",
            "_view_count": null,
            "_view_module": "@jupyter-widgets/base",
            "_view_module_version": "1.2.0",
            "_view_name": "LayoutView",
            "align_content": null,
            "align_items": null,
            "align_self": null,
            "border": null,
            "bottom": null,
            "display": null,
            "flex": null,
            "flex_flow": null,
            "grid_area": null,
            "grid_auto_columns": null,
            "grid_auto_flow": null,
            "grid_auto_rows": null,
            "grid_column": null,
            "grid_gap": null,
            "grid_row": null,
            "grid_template_areas": null,
            "grid_template_columns": null,
            "grid_template_rows": null,
            "height": null,
            "justify_content": null,
            "justify_items": null,
            "left": null,
            "margin": null,
            "max_height": null,
            "max_width": null,
            "min_height": null,
            "min_width": null,
            "object_fit": null,
            "object_position": null,
            "order": null,
            "overflow": null,
            "overflow_x": null,
            "overflow_y": null,
            "padding": null,
            "right": null,
            "top": null,
            "visibility": null,
            "width": null
          }
        },
        "8f0c90e34e3140b98b2c68c47107248f": {
          "model_module": "@jupyter-widgets/controls",
          "model_name": "DescriptionStyleModel",
          "model_module_version": "1.5.0",
          "state": {
            "_model_module": "@jupyter-widgets/controls",
            "_model_module_version": "1.5.0",
            "_model_name": "DescriptionStyleModel",
            "_view_count": null,
            "_view_module": "@jupyter-widgets/base",
            "_view_module_version": "1.2.0",
            "_view_name": "StyleView",
            "description_width": ""
          }
        }
      }
    },
    "accelerator": "GPU"
  },
  "cells": [
    {
      "cell_type": "markdown",
      "source": [
        "# Library Set-up"
      ],
      "metadata": {
        "id": "m9yhneMOs3GE"
      }
    },
    {
      "cell_type": "code",
      "source": [
        "!pip install warmup_scheduler_pytorch\n",
        "!pip install datasets\n",
        "import torch\n",
        "import torchvision\n",
        "from torchvision import transforms, models\n",
        "from torch.utils.data import DataLoader, Dataset\n",
        "from scipy.ndimage import zoom\n",
        "from math import sqrt\n",
        "\n",
        "!pip install torchinfo\n",
        "from torchinfo import summary"
      ],
      "metadata": {
        "id": "Wu6SRx8ubsFV",
        "colab": {
          "base_uri": "https://localhost:8080/"
        },
        "outputId": "39cd6e34-ea9f-44b1-d4cf-95c4077a58a9"
      },
      "execution_count": 1,
      "outputs": [
        {
          "output_type": "stream",
          "name": "stdout",
          "text": [
            "Collecting warmup_scheduler_pytorch\n",
            "  Downloading warmup_scheduler_pytorch-0.1.2-py3-none-any.whl.metadata (3.3 kB)\n",
            "Downloading warmup_scheduler_pytorch-0.1.2-py3-none-any.whl (5.7 kB)\n",
            "Installing collected packages: warmup_scheduler_pytorch\n",
            "Successfully installed warmup_scheduler_pytorch-0.1.2\n",
            "Collecting datasets\n",
            "  Downloading datasets-3.0.0-py3-none-any.whl.metadata (19 kB)\n",
            "Requirement already satisfied: filelock in /usr/local/lib/python3.10/dist-packages (from datasets) (3.16.1)\n",
            "Requirement already satisfied: numpy>=1.17 in /usr/local/lib/python3.10/dist-packages (from datasets) (1.26.4)\n",
            "Collecting pyarrow>=15.0.0 (from datasets)\n",
            "  Downloading pyarrow-17.0.0-cp310-cp310-manylinux_2_28_x86_64.whl.metadata (3.3 kB)\n",
            "Collecting dill<0.3.9,>=0.3.0 (from datasets)\n",
            "  Downloading dill-0.3.8-py3-none-any.whl.metadata (10 kB)\n",
            "Requirement already satisfied: pandas in /usr/local/lib/python3.10/dist-packages (from datasets) (2.1.4)\n",
            "Requirement already satisfied: requests>=2.32.2 in /usr/local/lib/python3.10/dist-packages (from datasets) (2.32.3)\n",
            "Requirement already satisfied: tqdm>=4.66.3 in /usr/local/lib/python3.10/dist-packages (from datasets) (4.66.5)\n",
            "Collecting xxhash (from datasets)\n",
            "  Downloading xxhash-3.5.0-cp310-cp310-manylinux_2_17_x86_64.manylinux2014_x86_64.whl.metadata (12 kB)\n",
            "Collecting multiprocess (from datasets)\n",
            "  Downloading multiprocess-0.70.16-py310-none-any.whl.metadata (7.2 kB)\n",
            "Requirement already satisfied: fsspec<=2024.6.1,>=2023.1.0 in /usr/local/lib/python3.10/dist-packages (from fsspec[http]<=2024.6.1,>=2023.1.0->datasets) (2024.6.1)\n",
            "Requirement already satisfied: aiohttp in /usr/local/lib/python3.10/dist-packages (from datasets) (3.10.5)\n",
            "Requirement already satisfied: huggingface-hub>=0.22.0 in /usr/local/lib/python3.10/dist-packages (from datasets) (0.24.7)\n",
            "Requirement already satisfied: packaging in /usr/local/lib/python3.10/dist-packages (from datasets) (24.1)\n",
            "Requirement already satisfied: pyyaml>=5.1 in /usr/local/lib/python3.10/dist-packages (from datasets) (6.0.2)\n",
            "Requirement already satisfied: aiohappyeyeballs>=2.3.0 in /usr/local/lib/python3.10/dist-packages (from aiohttp->datasets) (2.4.0)\n",
            "Requirement already satisfied: aiosignal>=1.1.2 in /usr/local/lib/python3.10/dist-packages (from aiohttp->datasets) (1.3.1)\n",
            "Requirement already satisfied: attrs>=17.3.0 in /usr/local/lib/python3.10/dist-packages (from aiohttp->datasets) (24.2.0)\n",
            "Requirement already satisfied: frozenlist>=1.1.1 in /usr/local/lib/python3.10/dist-packages (from aiohttp->datasets) (1.4.1)\n",
            "Requirement already satisfied: multidict<7.0,>=4.5 in /usr/local/lib/python3.10/dist-packages (from aiohttp->datasets) (6.1.0)\n",
            "Requirement already satisfied: yarl<2.0,>=1.0 in /usr/local/lib/python3.10/dist-packages (from aiohttp->datasets) (1.11.1)\n",
            "Requirement already satisfied: async-timeout<5.0,>=4.0 in /usr/local/lib/python3.10/dist-packages (from aiohttp->datasets) (4.0.3)\n",
            "Requirement already satisfied: typing-extensions>=3.7.4.3 in /usr/local/lib/python3.10/dist-packages (from huggingface-hub>=0.22.0->datasets) (4.12.2)\n",
            "Requirement already satisfied: charset-normalizer<4,>=2 in /usr/local/lib/python3.10/dist-packages (from requests>=2.32.2->datasets) (3.3.2)\n",
            "Requirement already satisfied: idna<4,>=2.5 in /usr/local/lib/python3.10/dist-packages (from requests>=2.32.2->datasets) (3.10)\n",
            "Requirement already satisfied: urllib3<3,>=1.21.1 in /usr/local/lib/python3.10/dist-packages (from requests>=2.32.2->datasets) (2.2.3)\n",
            "Requirement already satisfied: certifi>=2017.4.17 in /usr/local/lib/python3.10/dist-packages (from requests>=2.32.2->datasets) (2024.8.30)\n",
            "Requirement already satisfied: python-dateutil>=2.8.2 in /usr/local/lib/python3.10/dist-packages (from pandas->datasets) (2.8.2)\n",
            "Requirement already satisfied: pytz>=2020.1 in /usr/local/lib/python3.10/dist-packages (from pandas->datasets) (2024.2)\n",
            "Requirement already satisfied: tzdata>=2022.1 in /usr/local/lib/python3.10/dist-packages (from pandas->datasets) (2024.1)\n",
            "Requirement already satisfied: six>=1.5 in /usr/local/lib/python3.10/dist-packages (from python-dateutil>=2.8.2->pandas->datasets) (1.16.0)\n",
            "Downloading datasets-3.0.0-py3-none-any.whl (474 kB)\n",
            "\u001b[2K   \u001b[90m━━━━━━━━━━━━━━━━━━━━━━━━━━━━━━━━━━━━━━━━\u001b[0m \u001b[32m474.3/474.3 kB\u001b[0m \u001b[31m23.9 MB/s\u001b[0m eta \u001b[36m0:00:00\u001b[0m\n",
            "\u001b[?25hDownloading dill-0.3.8-py3-none-any.whl (116 kB)\n",
            "\u001b[2K   \u001b[90m━━━━━━━━━━━━━━━━━━━━━━━━━━━━━━━━━━━━━━━━\u001b[0m \u001b[32m116.3/116.3 kB\u001b[0m \u001b[31m11.3 MB/s\u001b[0m eta \u001b[36m0:00:00\u001b[0m\n",
            "\u001b[?25hDownloading pyarrow-17.0.0-cp310-cp310-manylinux_2_28_x86_64.whl (39.9 MB)\n",
            "\u001b[2K   \u001b[90m━━━━━━━━━━━━━━━━━━━━━━━━━━━━━━━━━━━━━━━━\u001b[0m \u001b[32m39.9/39.9 MB\u001b[0m \u001b[31m53.0 MB/s\u001b[0m eta \u001b[36m0:00:00\u001b[0m\n",
            "\u001b[?25hDownloading multiprocess-0.70.16-py310-none-any.whl (134 kB)\n",
            "\u001b[2K   \u001b[90m━━━━━━━━━━━━━━━━━━━━━━━━━━━━━━━━━━━━━━━━\u001b[0m \u001b[32m134.8/134.8 kB\u001b[0m \u001b[31m12.0 MB/s\u001b[0m eta \u001b[36m0:00:00\u001b[0m\n",
            "\u001b[?25hDownloading xxhash-3.5.0-cp310-cp310-manylinux_2_17_x86_64.manylinux2014_x86_64.whl (194 kB)\n",
            "\u001b[2K   \u001b[90m━━━━━━━━━━━━━━━━━━━━━━━━━━━━━━━━━━━━━━━━\u001b[0m \u001b[32m194.1/194.1 kB\u001b[0m \u001b[31m17.2 MB/s\u001b[0m eta \u001b[36m0:00:00\u001b[0m\n",
            "\u001b[?25hInstalling collected packages: xxhash, pyarrow, dill, multiprocess, datasets\n",
            "  Attempting uninstall: pyarrow\n",
            "    Found existing installation: pyarrow 14.0.2\n",
            "    Uninstalling pyarrow-14.0.2:\n",
            "      Successfully uninstalled pyarrow-14.0.2\n",
            "\u001b[31mERROR: pip's dependency resolver does not currently take into account all the packages that are installed. This behaviour is the source of the following dependency conflicts.\n",
            "cudf-cu12 24.4.1 requires pyarrow<15.0.0a0,>=14.0.1, but you have pyarrow 17.0.0 which is incompatible.\u001b[0m\u001b[31m\n",
            "\u001b[0mSuccessfully installed datasets-3.0.0 dill-0.3.8 multiprocess-0.70.16 pyarrow-17.0.0 xxhash-3.5.0\n",
            "Collecting torchinfo\n",
            "  Downloading torchinfo-1.8.0-py3-none-any.whl.metadata (21 kB)\n",
            "Downloading torchinfo-1.8.0-py3-none-any.whl (23 kB)\n",
            "Installing collected packages: torchinfo\n",
            "Successfully installed torchinfo-1.8.0\n"
          ]
        }
      ]
    },
    {
      "cell_type": "markdown",
      "source": [
        "# Load Oxford Pet dataset from HuggingFace"
      ],
      "metadata": {
        "id": "0lVin7XiHMzR"
      }
    },
    {
      "cell_type": "code",
      "source": [
        "#Download Oxford Pets dataset from HuggingFace\n",
        "from datasets import load_dataset"
      ],
      "metadata": {
        "id": "a5kipO0YGTK0"
      },
      "execution_count": 2,
      "outputs": []
    },
    {
      "cell_type": "code",
      "source": [
        "ds = load_dataset(\"timm/oxford-iiit-pet\")"
      ],
      "metadata": {
        "colab": {
          "base_uri": "https://localhost:8080/",
          "height": 307,
          "referenced_widgets": [
            "491b2ef57c8f4cc59245cf3d1625f7f7",
            "b581e9f6ce2c4c77b8754db9e9e763a4",
            "8c3b2173b63a45a291bcd3b2b81269bc",
            "2c8bd1568ca14f22aa9230dbb6e4c1c2",
            "d49e29fad58f46fe91f4034ff7d082d8",
            "d79bb107f6294ce082e6353d68159276",
            "db918614add94b76aa64f1f4169dc21c",
            "2b228e381a344c8aad6795e6f095d079",
            "fe8cc5d489e14dab8a8fa2ffcd5d9d06",
            "3db9cec75b1844a5a6815789930d711e",
            "7d7b25b8034a43b3a00b523975ce0dfe",
            "8d755535df6940dd8b4f1023bb2688dd",
            "18db5cd88bf549c9886a8fec4d5beec8",
            "efe9c696ab0d4ae786a6e8f0e4199b78",
            "1d7a9c36f0b54bdc8355f8cfb53c52a4",
            "74dbeedd8d4c45758c10f14670695d16",
            "d35a718024124ca2a102e93f68ede6de",
            "cdf8c6396edc4c85acdfc2282d6f4f93",
            "7af0c75f86974e20b87d6bc9dc1e6f1b",
            "c0d7d90921644929b8527da6ee2f82f9",
            "04c7a325f10444a9b89581ff945f896f",
            "98b1f27c1a6745e29fd1a7c9672bb1be",
            "49486ec77fbe4ec4b5ce5c694b3c4abc",
            "21dfa5ca4d2746b6a8f89eac8f06736b",
            "d0de942946754aee87469952b04d3d49",
            "998d71139d324a03ab1a68b3d6712ccd",
            "4aa840a9d4ea49a69c0c8ad7bb43b368",
            "4a6a508ed3e5448aa80d85a6a1ad1d40",
            "00b5ff5883564117a4cc030975f23b42",
            "874baf0f03fe4e9aaddbe289c2067911",
            "98de632bbb4f4ffbaa65f24491117ac9",
            "242b1023ceaf468d8229e51837ff7811",
            "be47c847dccd44bf9b1b079b8ba46f2a",
            "cf44a34dcbaf4285ae6f5e26e20cd7bc",
            "a2eade6bcd424e7f9ef749b4e7952ee7",
            "51be6d77637f43f6aab01e5b858b367a",
            "dabd469ec1b14595a454d9662ab8070c",
            "756b2f2e5402463189b764242c121f00",
            "e19ea9f2aafb498daccd4d8265915099",
            "931b268298ae43028eea462817eade64",
            "79259fbd6627417ca93c6af7e37007ee",
            "ba9ac4027f914ebd9cb53523209e748e",
            "3888bfff101c443b88339452e09c018b",
            "f3a5697381ce40b89568394f98801014",
            "4eb3527bd8c548ee908e1c461ca6863b",
            "58cac5c7fa734aeeab129e16906f2e5f",
            "2ebddec6a4b34f82ad2515b194e5b73a",
            "b5214b7276b84c4b844d0d123b996c97",
            "68e2dc97a7b7459587d78c45eac79f71",
            "70e0509a177244eab817cf37a80fc786",
            "597a9c7639284e4996ba20c3dbe97683",
            "f0716d1e06164a41bed765a5dfdab6d8",
            "aa0081b385134a5fad55b924bde8d849",
            "0ef2721fd1fb47739d6efa1fb81ebfe3",
            "8f0c90e34e3140b98b2c68c47107248f"
          ]
        },
        "id": "tU5ijBRRa4AM",
        "outputId": "df37aee5-90f4-45a8-afa0-7954a1a7a98c"
      },
      "execution_count": 3,
      "outputs": [
        {
          "output_type": "stream",
          "name": "stderr",
          "text": [
            "/usr/local/lib/python3.10/dist-packages/huggingface_hub/utils/_token.py:89: UserWarning: \n",
            "The secret `HF_TOKEN` does not exist in your Colab secrets.\n",
            "To authenticate with the Hugging Face Hub, create a token in your settings tab (https://huggingface.co/settings/tokens), set it as secret in your Google Colab and restart your session.\n",
            "You will be able to reuse this secret in all of your notebooks.\n",
            "Please note that authentication is recommended but still optional to access public models or datasets.\n",
            "  warnings.warn(\n"
          ]
        },
        {
          "output_type": "display_data",
          "data": {
            "text/plain": [
              "README.md:   0%|          | 0.00/2.50k [00:00<?, ?B/s]"
            ],
            "application/vnd.jupyter.widget-view+json": {
              "version_major": 2,
              "version_minor": 0,
              "model_id": "491b2ef57c8f4cc59245cf3d1625f7f7"
            }
          },
          "metadata": {}
        },
        {
          "output_type": "display_data",
          "data": {
            "text/plain": [
              "train-00000-of-00001.parquet:   0%|          | 0.00/378M [00:00<?, ?B/s]"
            ],
            "application/vnd.jupyter.widget-view+json": {
              "version_major": 2,
              "version_minor": 0,
              "model_id": "8d755535df6940dd8b4f1023bb2688dd"
            }
          },
          "metadata": {}
        },
        {
          "output_type": "display_data",
          "data": {
            "text/plain": [
              "test-00000-of-00001.parquet:   0%|          | 0.00/413M [00:00<?, ?B/s]"
            ],
            "application/vnd.jupyter.widget-view+json": {
              "version_major": 2,
              "version_minor": 0,
              "model_id": "49486ec77fbe4ec4b5ce5c694b3c4abc"
            }
          },
          "metadata": {}
        },
        {
          "output_type": "display_data",
          "data": {
            "text/plain": [
              "Generating train split:   0%|          | 0/3680 [00:00<?, ? examples/s]"
            ],
            "application/vnd.jupyter.widget-view+json": {
              "version_major": 2,
              "version_minor": 0,
              "model_id": "cf44a34dcbaf4285ae6f5e26e20cd7bc"
            }
          },
          "metadata": {}
        },
        {
          "output_type": "display_data",
          "data": {
            "text/plain": [
              "Generating test split:   0%|          | 0/3669 [00:00<?, ? examples/s]"
            ],
            "application/vnd.jupyter.widget-view+json": {
              "version_major": 2,
              "version_minor": 0,
              "model_id": "4eb3527bd8c548ee908e1c461ca6863b"
            }
          },
          "metadata": {}
        }
      ]
    },
    {
      "cell_type": "code",
      "source": [
        "#Create a list of label names - label_names[0] reutrns the breed name associated with label 0\n",
        "#Creates a list of the indexes of the first insance of each label\n",
        "indexes = [ds['train']['label'].index(x) for x in set(ds['train']['label'])]\n",
        "label_names = []\n",
        "#Iterates through the unique labels and returns the label_id name with numbers removed from the end. This leaves the breed name\n",
        "for i in range(len(indexes)):\n",
        "  unique_image_id = ds['train']['image_id'][indexes[i]]\n",
        "  cleaned = unique_image_id.rstrip('0123456789_')\n",
        "  label_names.append(cleaned)"
      ],
      "metadata": {
        "id": "CpYT-h26ga5e"
      },
      "execution_count": 4,
      "outputs": []
    },
    {
      "cell_type": "code",
      "source": [
        "#As all images in the Oxford Pet dataset have a resolution larger than 96x96 they need to undergo the following transforms as outlined in Kolesnikov et al. 2019 (page 6)\n",
        "data_transform = transforms.Compose([\n",
        "    # Resize the images to 448x448\n",
        "    transforms.Resize(size=(448, 448)),\n",
        "    # Randomly crops the images to 384x384\n",
        "    transforms.RandomCrop(size=(384, 384)),\n",
        "    # Flip the images randomly on the horizontal\n",
        "    transforms.RandomHorizontalFlip(p=0.5),\n",
        "    # Turns the images into torch.Tensor format\n",
        "    transforms.ToTensor(),\n",
        "    #Converts any images in RGBA format to RGB\n",
        "    transforms.Lambda(lambda x: x[:3]),\n",
        "])"
      ],
      "metadata": {
        "id": "SiQLqw5-K4ZK"
      },
      "execution_count": 5,
      "outputs": []
    },
    {
      "cell_type": "code",
      "source": [
        "#Create custom dataset with just the images in tensor format and image label\n",
        "class OxfordPets(Dataset):\n",
        "\n",
        "    def __init__(self, dataset=ds['train'], transform=None) -> None:\n",
        "\n",
        "        # Setup transforms\n",
        "        self.transform = transform\n",
        "        # Create images and labels attribute\n",
        "        self.images = dataset['image']\n",
        "        self.labels = dataset['label']\n",
        "\n",
        "    #Function to load images\n",
        "    def load_image(self, index: int):\n",
        "        '''Opens an image'''\n",
        "        im = self.images[index]\n",
        "        return im\n",
        "\n",
        "    #Overwrites the __len__() method\n",
        "    def __len__(self) -> int:\n",
        "        '''Returns the total number of samples'''\n",
        "        return len(self.images)\n",
        "\n",
        "    #Overwrites the __getitem__() method\n",
        "    def __getitem__(self, index: int):\n",
        "        '''Returns one sample of data, data and label (X, y)'''\n",
        "        im = self.images[index]\n",
        "        label = self.labels[index]\n",
        "\n",
        "        # Transform if necessary\n",
        "        if self.transform:\n",
        "            return self.transform(im), label # return data, label (X, y)\n",
        "        else:\n",
        "            return im, label # return data, label (X, y)"
      ],
      "metadata": {
        "id": "XW1mWYPEzzR6"
      },
      "execution_count": 6,
      "outputs": []
    },
    {
      "cell_type": "code",
      "source": [
        "#Create Training and test datasets\n",
        "train_data = OxfordPets(dataset=ds['train'], transform=data_transform)\n",
        "test_data = OxfordPets(dataset=ds['test'], transform=data_transform)"
      ],
      "metadata": {
        "id": "5i36AXMOV1sN"
      },
      "execution_count": 7,
      "outputs": []
    },
    {
      "cell_type": "markdown",
      "source": [
        "# Vision Transformer Model"
      ],
      "metadata": {
        "id": "OUsJ4D3vqLSs"
      }
    },
    {
      "cell_type": "code",
      "source": [
        "#Equivalent to equation 1 in Dosovitsky et al. 2021 (explanation found in section 3.1 of the paper)\n",
        "class Embeddings_Set_Up(torch.nn.Module):\n",
        "  '''\n",
        "  Class that performs the embeddings set-up for the ViT model in Dosovitskiy et al. 2021\n",
        "  Output of module is the transformer block input for the pretraining version of ViT\n",
        "\n",
        "  Input: image or batch of images as tensor. [batch_size, num_of_colour_channels, height, width]\n",
        "         for default values as laid out in Vision_Transformer_Pretraining the input size is [batch_size, 3, 224, 224]\n",
        "\n",
        "  Output: embeddings tensor of shape [batch_size, num_patches+1, latent_vector_size]\n",
        "          for default values as laid out in Vision_Transformer_Pretraining the input size is [batch_size, 197, 768]\n",
        "  '''\n",
        "  def __init__(self, image_resolution, num_image_channels, patch_size, latent_vector_size):\n",
        "    super().__init__()\n",
        "    self.unfold = torch.nn.Unfold(kernel_size=(patch_size,patch_size), stride=(patch_size,patch_size))\n",
        "    self.linear_projection = torch.nn.Linear((patch_size**2)*num_image_channels,latent_vector_size,bias=True)\n",
        "    self.class_embedding = torch.nn.parameter.Parameter(torch.randn(latent_vector_size))\n",
        "    self.position_embeddings = torch.nn.parameter.Parameter(torch.randn(int((image_resolution/patch_size)**2+1),latent_vector_size))\n",
        "\n",
        "  def forward(self, images):\n",
        "    #Step 1 - Turn image into patches and flatten them\n",
        "    image_patches = self.unfold(images)\n",
        "    image_patches = image_patches.transpose(1,2)\n",
        "    #Step 2 - Map each patch to a vector of length D (latent vector size)\n",
        "    patch_embeddings = self.linear_projection(image_patches)\n",
        "    #Step 3 - Prepend a learnable embedding for the image class to the sequence of patches\n",
        "    unsqueezed_class_embedding = self.class_embedding.unsqueeze(0).unsqueeze(0)\n",
        "    batched_class_embeddings = torch.cat([unsqueezed_class_embedding for i in range(patch_embeddings.shape[0])],dim=0)\n",
        "    class_and_patch_embeddings = torch.cat([batched_class_embeddings,patch_embeddings],dim=1)\n",
        "    #Step 4 - Add learnable position embeddings to the class and patch embeddings.\n",
        "    position_embeddings = self.position_embeddings.unsqueeze(0)\n",
        "    batched_position_embeddings = torch.cat([position_embeddings for i in range(patch_embeddings.shape[0])],dim=0)\n",
        "    transformer_input = class_and_patch_embeddings + batched_position_embeddings\n",
        "\n",
        "    return transformer_input"
      ],
      "metadata": {
        "id": "7OAD5EuKpJGz"
      },
      "execution_count": 8,
      "outputs": []
    },
    {
      "cell_type": "code",
      "source": [
        "class Embeddings_Set_Up_Finetuning(torch.nn.Module):\n",
        "  '''\n",
        "  Class that performs the embeddings set-up for the ViT model in Dosovitskiy et al. 2021\n",
        "  Output of module is the transformer block input for the finetuning version of ViT\n",
        "\n",
        "  Input: image or batch of images as tensor. [batch_size, num_of_colour_channels, height, width]\n",
        "         for default values as laid out in Vision_Transformer_Finetuning the input size is [batch_size, 3, 384, 384]\n",
        "\n",
        "  Output: embeddings tensor of shape [batch_size, num_patches+1, latent_vector_size]\n",
        "          for default values as laid out in Vision_Transformer_Finetuning the input size is [batch_size, 577, 768]\n",
        "  '''\n",
        "  def __init__(self, pretrained_model, pretraining_image_resolution, finetuning_image_resolution, num_image_channels, patch_size, latent_vector_size):\n",
        "    super().__init__()\n",
        "    self.unfold = torch.nn.Unfold(kernel_size=(patch_size,patch_size), stride=(patch_size,patch_size))\n",
        "    self.linear_projection = torch.nn.Linear((patch_size**2)*num_image_channels,latent_vector_size,bias=True)\n",
        "    #Class embedding is initialised as the pretrained model class embedding\n",
        "    self.class_embedding = pretrained_model.embeddings.class_embedding\n",
        "    #Position embeddings are initialised as the 2D interpolation of the pretrained model position embeddings\n",
        "    self.position_embeddings = torch.nn.parameter.Parameter(interpolate_position_embedding(pretrained_model.embeddings.position_embeddings,pretraining_image_resolution,finetuning_image_resolution,patch_size,latent_vector_size))\n",
        "\n",
        "  def forward(self, images):\n",
        "    #Step 1 - Turn finetuning image into patches and flatten them\n",
        "    image_patches = self.unfold(images)\n",
        "    image_patches = image_patches.transpose(1,2)\n",
        "    #Step 2 - Map each patch to a vector of length D (latent vector size)\n",
        "    patch_embeddings = self.linear_projection(image_patches)\n",
        "    #Step 3 - Prepend the pretrained class embedding to the sequence of patches\n",
        "    unsqueezed_class_embedding = self.class_embedding.unsqueeze(0).unsqueeze(0)\n",
        "    class_and_patch_embeddings = torch.cat([unsqueezed_class_embedding,patch_embeddings],dim=1)\n",
        "    #Step 4 - Add the pretrained position embeddings to the class_and_patch embeddings\n",
        "    position_embeddings = self.position_embeddings.unsqueeze(0)\n",
        "    transformer_input = class_and_patch_embeddings + position_embeddings\n",
        "\n",
        "    return transformer_input"
      ],
      "metadata": {
        "id": "G9ROIidxMc0G"
      },
      "execution_count": 9,
      "outputs": []
    },
    {
      "cell_type": "code",
      "source": [
        "#Equivalent to equations 2 & 3 of Dosovitsky et al. 2021\n",
        "class Transformer_Layer(torch.nn.Module):\n",
        "  '''\n",
        "  Transformer Layer for ViT model from Dosovitskiy et al. 2021\n",
        "\n",
        "  Input: embeddings tensor of shape [batch_size, num_patches+1, latent_vector_size]\n",
        "\n",
        "  Output: embeddings tensor of shape [batch_size, num_patches+1, latent_vector_size]\n",
        "  '''\n",
        "  def __init__(self, num_patches, latent_vector_size, num_MSA_heads, MLP_hidden_layer_size, dropout=0.1):\n",
        "    super().__init__()\n",
        "\n",
        "    #Step 5 - Layer Normalisation\n",
        "    self.layer_norm = torch.nn.LayerNorm(latent_vector_size)\n",
        "    #Step 6 - Multi-headed Self Attention (MSA)\n",
        "    self.MSA_module = torch.nn.MultiheadAttention(latent_vector_size, num_MSA_heads, batch_first=True)\n",
        "\n",
        "    #Step 8 - Layer Normalisation\n",
        "    self.layer_norm_2 = torch.nn.LayerNorm(latent_vector_size)\n",
        "    #Step 9 - Multi-Layer Perceptron (MLP)\n",
        "    self.MLP_module = torch.nn.Sequential(\n",
        "        torch.nn.Linear(latent_vector_size,MLP_hidden_layer_size),\n",
        "        torch.nn.Dropout(dropout), #dropout after every dense layer (from Appendix B.1 - 'Training')\n",
        "        torch.nn.GELU(),\n",
        "        torch.nn.Linear(MLP_hidden_layer_size,latent_vector_size),\n",
        "        torch.nn.Dropout(dropout) #dropout after every dense layer (from Appendix B.1 - 'Training')\n",
        "    )\n",
        "\n",
        "  def forward(self, transformer_input):\n",
        "    layer_norm = self.layer_norm(transformer_input)\n",
        "    MSA_module_output, MSA_weights = self.MSA_module(layer_norm,layer_norm,layer_norm) #Step 6 - Multi-headed Self Attention (MSA)\n",
        "    z_apostraphe = MSA_module_output + transformer_input #Step 7 - Residual Connection\n",
        "    transformer_output = self.MLP_module(self.layer_norm_2(z_apostraphe)) + z_apostraphe #Step 10 - Residual Connection\n",
        "\n",
        "    return transformer_output"
      ],
      "metadata": {
        "id": "OBWAOTAzhIaE"
      },
      "execution_count": 11,
      "outputs": []
    },
    {
      "cell_type": "code",
      "source": [
        "class Vision_Transformer_Pretraining(torch.nn.Module):\n",
        "  '''\n",
        "  Replication of Vision Transformer model from Dosovitskiy et al. (2021)\n",
        "  Pretraining version where classification head is a MLP with one hidden layer\n",
        "\n",
        "  Input: image or batch of images as tensor. [batch_size, num_of_colour_channels, height, width]\n",
        "         for default values, the input size is [batch_size, 3, 224, 224]\n",
        "\n",
        "  Output: classification probabilities tensor of shape [batch_size, num_labels]\n",
        "          for Oxford Pets Dataset output size is [batch_size, 37]\n",
        "  '''\n",
        "  def __init__(self, image_resolution=224, num_image_channels=3, num_labels=1000, patch_size=16, latent_vector_size=768, num_transformer_layers=12,\n",
        "               num_MSA_heads=12,MLP_hidden_layer_size=3072,dropout=0.0):\n",
        "    super().__init__()\n",
        "\n",
        "    # Dropout\n",
        "    self.dropout = torch.nn.Dropout(dropout)\n",
        "    # Create patch embeddings to feed into Transformer block\n",
        "    self.embeddings = Embeddings_Set_Up(image_resolution, num_image_channels, patch_size, latent_vector_size)\n",
        "    # Create a Trarnsformer block with L layers, L = 'num_transformer_layers'\n",
        "    self.Transformer = torch.nn.ModuleList([Transformer_Layer(int((image_resolution/patch_size)**2), latent_vector_size, num_MSA_heads, MLP_hidden_layer_size,dropout) for i in range(num_transformer_layers)])\n",
        "    #Final Layer Normalisation\n",
        "    self.layer_norm = torch.nn.LayerNorm(latent_vector_size)\n",
        "    # Create MLP classification head\n",
        "    self.classification_head = torch.nn.Sequential(\n",
        "        torch.nn.Linear(latent_vector_size,MLP_hidden_layer_size),\n",
        "        torch.nn.Dropout(dropout), #dropout after every dense layer (from Appendix B.1 - 'Training')\n",
        "        torch.nn.Tanh(),\n",
        "        torch.nn.Linear(MLP_hidden_layer_size,num_labels),\n",
        "        torch.nn.Dropout(dropout), #dropout after every dense layer (from Appendix B.1 - 'Training')\n",
        "    )\n",
        "\n",
        "  def forward(self, images):\n",
        "    x = self.embeddings(images)\n",
        "    x = self.dropout(x)\n",
        "    for layer in self.Transformer:\n",
        "      x = layer(x)\n",
        "    x = self.layer_norm(x)\n",
        "    y = self.classification_head(x[:,0,:]) #Classification layer only applies to class embedding\n",
        "    return y"
      ],
      "metadata": {
        "id": "Krf6-vEMTzdm"
      },
      "execution_count": 12,
      "outputs": []
    },
    {
      "cell_type": "code",
      "source": [
        "class Vision_Transformer_Finetuning(torch.nn.Module):\n",
        "  '''\n",
        "  Replication of Vision Transformer model from Dosovitskiy et al. (2021)\n",
        "  Finetuning version where classification head is replaced with a linear layer\n",
        "\n",
        "  Input: image or batch of images as tensor. [batch_size, num_of_colour_channels, height, width]\n",
        "         for default values, the input size is [batch_size, 3, 384, 384]\n",
        "\n",
        "  Output: classification probabilities tensor of shape [batch_size, num_labels]\n",
        "          for Oxford Pets Dataset output size is [batch_size, 37]\n",
        "  '''\n",
        "  def __init__(self, image_resolution=384, num_image_channels=3, num_labels=37, patch_size=16, latent_vector_size=768, num_transformer_layers=12,\n",
        "               num_MSA_heads=12,MLP_hidden_layer_size=3072,dropout=0.1):\n",
        "    super().__init__()\n",
        "\n",
        "    # Dropout\n",
        "    self.dropout = torch.nn.Dropout(dropout)\n",
        "    # Create patch embeddings to feed into Transformer block\n",
        "    self.embeddings = Embeddings_Set_Up(image_resolution, num_image_channels, patch_size, latent_vector_size)\n",
        "    # Create a Trarnsformer block with L layers, L = 'num_transformer_layers'\n",
        "    self.Transformer = torch.nn.ModuleList([Transformer_Layer(int((image_resolution/patch_size)**2), latent_vector_size, num_MSA_heads, MLP_hidden_layer_size,dropout) for i in range(num_transformer_layers)])\n",
        "    #Final Layer Normalisation\n",
        "    self.layer_norm = torch.nn.LayerNorm(latent_vector_size)\n",
        "    # Create Linear classification layer to apply to class embedding\n",
        "    self.classification = torch.nn.Linear(latent_vector_size,num_labels)\n",
        "    # Initialise Classification Linear Layer weight\n",
        "    torch.nn.init.zeros_(self.classification.weight)\n",
        "    # Initialise Classification Linear Layer bias\n",
        "    torch.nn.init.zeros_(self.classification.bias)\n",
        "\n",
        "\n",
        "  def forward(self, images):\n",
        "    x = self.embeddings(images)\n",
        "    x = self.dropout(x)\n",
        "    for layer in self.Transformer:\n",
        "      x = layer(x)\n",
        "    x = self.layer_norm(x)\n",
        "    y = self.classification(x[:,0,:]) # Classification layer only applies to class embedding\n",
        "    y = self.dropout(y)\n",
        "    return y"
      ],
      "metadata": {
        "id": "dX_Si8yJAxa9"
      },
      "execution_count": 13,
      "outputs": []
    },
    {
      "cell_type": "markdown",
      "source": [
        "# Pretraining to Finetuning helper functions"
      ],
      "metadata": {
        "id": "xuISVPfCv4wU"
      }
    },
    {
      "cell_type": "code",
      "source": [
        "def vitB16_model_to_pretraining_model(pretrained_model, initialised_model):\n",
        "  '''\n",
        "  Transfers the model weights from the pretrained model vitB16 to an initialised pretraining model\n",
        "  The output therefore has the right parameter names to be fed into Vision_Transformer_Finetuning\n",
        "  '''\n",
        "  initialised_model.embeddings.class_embedding = torch.nn.parameter.Parameter(pretrained_model.class_token.squeeze().squeeze())\n",
        "  initialised_model.embeddings.position_embeddings = torch.nn.parameter.Parameter(pretrained_model.encoder.pos_embedding.squeeze())\n",
        "  initialised_model.embeddings.linear_projection.weight = torch.nn.parameter.Parameter(pretrained_model.conv_proj.weight.flatten(1,3))\n",
        "  initialised_model.embeddings.linear_projection.bias = torch.nn.parameter.Parameter(pretrained_model.conv_proj.bias)\n",
        "  for i in range(12):\n",
        "    initialised_model.Transformer[i].layer_norm.weight = torch.nn.parameter.Parameter(pretrained_model.encoder.layers[i].ln_1.weight)\n",
        "    initialised_model.Transformer[i].layer_norm.bias = torch.nn.parameter.Parameter(pretrained_model.encoder.layers[i].ln_1.bias)\n",
        "    initialised_model.Transformer[i].MSA_module.in_proj_weight = torch.nn.parameter.Parameter(pretrained_model.encoder.layers[i].self_attention.in_proj_weight)\n",
        "    initialised_model.Transformer[i].MSA_module.in_proj_bias = torch.nn.parameter.Parameter(pretrained_model.encoder.layers[i].self_attention.in_proj_bias)\n",
        "    initialised_model.Transformer[i].MSA_module.out_proj.weight = torch.nn.parameter.Parameter(pretrained_model.encoder.layers[i].self_attention.out_proj.weight)\n",
        "    initialised_model.Transformer[i].MSA_module.out_proj.bias = torch.nn.parameter.Parameter(pretrained_model.encoder.layers[i].self_attention.out_proj.bias)\n",
        "    initialised_model.Transformer[i].layer_norm_2.weight = torch.nn.parameter.Parameter(pretrained_model.encoder.layers[i].ln_2.weight)\n",
        "    initialised_model.Transformer[i].layer_norm_2.bias = torch.nn.parameter.Parameter(pretrained_model.encoder.layers[i].ln_2.bias)\n",
        "    initialised_model.Transformer[i].MLP_module[0].weight = torch.nn.parameter.Parameter(pretrained_model.encoder.layers[i].mlp[0].weight)\n",
        "    initialised_model.Transformer[i].MLP_module[0].bias = torch.nn.parameter.Parameter(pretrained_model.encoder.layers[i].mlp[0].bias)\n",
        "    initialised_model.Transformer[i].MLP_module[3].weight = torch.nn.parameter.Parameter(pretrained_model.encoder.layers[i].mlp[3].weight)\n",
        "    initialised_model.Transformer[i].MLP_module[3].bias = torch.nn.parameter.Parameter(pretrained_model.encoder.layers[i].mlp[3].bias)\n",
        "  initialised_model.layer_norm.weight = torch.nn.parameter.Parameter(pretrained_model.encoder.ln.weight)\n",
        "  initialised_model.layer_norm.bias = torch.nn.parameter.Parameter(pretrained_model.encoder.ln.bias)\n",
        "\n",
        "  return initialised_model"
      ],
      "metadata": {
        "id": "Suh5UWrwzec3"
      },
      "execution_count": 14,
      "outputs": []
    },
    {
      "cell_type": "code",
      "source": [
        "def interpolate_position_embedding(pretrained_embeddings,pretraining_resolution=224,finetuning_resolution=384,patch_size=16,latent_vector_size=768):\n",
        "  '''\n",
        "  Performs 2D interpolation of position embeddings of pretrained model\n",
        "  to allow for increased resolution of images from pretraining to finetuning\n",
        "  Explanation can be found in section 3.2 of Dosovitsky et al. 2021\n",
        "  '''\n",
        "  pretraining_num_patches = int((pretraining_resolution/patch_size)**2)\n",
        "  finetuning_num_patches = int((finetuning_resolution/patch_size)**2)\n",
        "  sqrt_pretraining_num_patches = int(sqrt(pretraining_num_patches))\n",
        "  sqrt_finetuning_num_patches = int(sqrt(finetuning_num_patches))\n",
        "  #Remove class embedding from pretrainined embeddings tensor\n",
        "  old_position_embeddings = pretrained_embeddings[1:]\n",
        "  #Reshape into a grid so that each patch embedding has 2D positional info\n",
        "  old_position_embeddings = torch.reshape(old_position_embeddings,[sqrt_pretraining_num_patches,sqrt_pretraining_num_patches,latent_vector_size])\n",
        "  #Increase grid size to allow for increased resolution of images in finetuning\n",
        "  #and interpolate missing values\n",
        "  scaling = sqrt_finetuning_num_patches/sqrt_pretraining_num_patches\n",
        "  position_interpolated = zoom(old_position_embeddings.detach().numpy(),(scaling,scaling,1))\n",
        "  position_interpolated = torch.tensor(position_interpolated)\n",
        "  #Flatten the grid\n",
        "  new_position_embedding = torch.reshape(position_interpolated,[int(finetuning_num_patches),latent_vector_size])\n",
        "  #Prepend class embedding to new position embeddings\n",
        "  new_position_embedding = torch.cat([pretrained_embeddings[0].unsqueeze(0),new_position_embedding],dim=0)\n",
        "\n",
        "  return new_position_embedding"
      ],
      "metadata": {
        "id": "h_x3yQUwQqR9"
      },
      "execution_count": 10,
      "outputs": []
    },
    {
      "cell_type": "code",
      "source": [
        "def initialise_finetuning_parameters(finetuning_model, pretrained_model, pretraining_image_resolution=224,finetuning_image_resolution=384,patch_size=16,latent_vector_size=768):\n",
        "  '''\n",
        "  Transfers the model weights from the pretrained model to the finetuning model\n",
        "  '''\n",
        "  finetuning_model.embeddings.class_embedding = pretrained_model.embeddings.class_embedding\n",
        "  #interpolate the position embeddings from the pretraining to finetuning image resolution version\n",
        "  interpolated = interpolate_position_embedding(pretrained_model.embeddings.position_embeddings,pretraining_image_resolution,finetuning_image_resolution,patch_size,latent_vector_size)\n",
        "  finetuning_model.embeddings.position_embeddings = torch.nn.parameter.Parameter(interpolated)\n",
        "  finetuning_model.embeddings.linear_projection.weight = pretrained_model.embeddings.linear_projection.weight\n",
        "  finetuning_model.embeddings.linear_projection.bias = pretrained_model.embeddings.linear_projection.bias\n",
        "  for i in range(12):\n",
        "    finetuning_model.Transformer[i].layer_norm.weight = pretrained_model.Transformer[i].layer_norm.weight\n",
        "    finetuning_model.Transformer[i].layer_norm.bias = pretrained_model.Transformer[i].layer_norm.bias\n",
        "    finetuning_model.Transformer[i].MSA_module.in_proj_weight = pretrained_model.Transformer[i].MSA_module.in_proj_weight\n",
        "    finetuning_model.Transformer[i].MSA_module.in_proj_bias = pretrained_model.Transformer[i].MSA_module.in_proj_bias\n",
        "    finetuning_model.Transformer[i].MSA_module.out_proj.weight = pretrained_model.Transformer[i].MSA_module.out_proj.weight\n",
        "    finetuning_model.Transformer[i].MSA_module.out_proj.bias = pretrained_model.Transformer[i].MSA_module.out_proj.bias\n",
        "    finetuning_model.Transformer[i].layer_norm_2.weight = pretrained_model.Transformer[i].layer_norm_2.weight\n",
        "    finetuning_model.Transformer[i].layer_norm_2.bias = pretrained_model.Transformer[i].layer_norm_2.bias\n",
        "    finetuning_model.Transformer[i].MLP_module[0].weight = pretrained_model.Transformer[i].MLP_module[0].weight\n",
        "    finetuning_model.Transformer[i].MLP_module[0].bias = pretrained_model.Transformer[i].MLP_module[0].bias\n",
        "    finetuning_model.Transformer[i].MLP_module[3].weight = pretrained_model.Transformer[i].MLP_module[3].weight\n",
        "    finetuning_model.Transformer[i].MLP_module[3].bias = pretrained_model.Transformer[i].MLP_module[3].bias\n",
        "  finetuning_model.layer_norm.weight = pretrained_model.layer_norm.weight\n",
        "  finetuning_model.layer_norm.bias = pretrained_model.layer_norm.bias\n",
        "\n",
        "  return finetuning_model\n"
      ],
      "metadata": {
        "id": "0UfEzJQZNMLR"
      },
      "execution_count": 15,
      "outputs": []
    },
    {
      "cell_type": "markdown",
      "source": [
        "# Tests"
      ],
      "metadata": {
        "id": "-vDsTmveVai_"
      }
    },
    {
      "cell_type": "markdown",
      "source": [
        " Tests for model ouput shape. ouput.shape should be [1,1000] and output2.shape should be [1,37]"
      ],
      "metadata": {
        "id": "MB3mqLPrwYE0"
      }
    },
    {
      "cell_type": "code",
      "source": [
        "image = torch.rand([1,3,224,224])\n",
        "model = Vision_Transformer_Pretraining(num_transformer_layers=12)\n",
        "output = model(image)\n",
        "output.shape"
      ],
      "metadata": {
        "colab": {
          "base_uri": "https://localhost:8080/"
        },
        "id": "G_ldZEWR2jEI",
        "outputId": "75b68131-6b75-4f69-9d1e-2f1cafc16619"
      },
      "execution_count": null,
      "outputs": [
        {
          "output_type": "execute_result",
          "data": {
            "text/plain": [
              "torch.Size([1, 1000])"
            ]
          },
          "metadata": {},
          "execution_count": 77
        }
      ]
    },
    {
      "cell_type": "code",
      "source": [
        "image2 = torch.rand([1,3,384,384])\n",
        "model2 = Vision_Transformer_Finetuning(num_transformer_layers=12)\n",
        "output2 = model2(image2)\n",
        "output2.shape"
      ],
      "metadata": {
        "colab": {
          "base_uri": "https://localhost:8080/"
        },
        "id": "F5fgOptiMbzL",
        "outputId": "1e5636f6-762d-4ab0-fe3b-0f80edb5d11e"
      },
      "execution_count": null,
      "outputs": [
        {
          "output_type": "execute_result",
          "data": {
            "text/plain": [
              "torch.Size([1, 37])"
            ]
          },
          "metadata": {},
          "execution_count": 119
        }
      ]
    },
    {
      "cell_type": "markdown",
      "source": [
        "Use these to compare parameters in pretrained vitB16 model downloaded from torchvision and the model created using this code."
      ],
      "metadata": {
        "id": "p5PgtIDXwm_f"
      }
    },
    {
      "cell_type": "code",
      "source": [
        "for name, param in vitB16_model.state_dict().items():\n",
        "    print(name, param.size())"
      ],
      "metadata": {
        "id": "XW-WBfP22Dy2"
      },
      "execution_count": null,
      "outputs": []
    },
    {
      "cell_type": "code",
      "source": [
        "for name, param in model2.state_dict().items():\n",
        "    print(name, param.size())"
      ],
      "metadata": {
        "id": "Gt2-7L8PuUmd"
      },
      "execution_count": null,
      "outputs": []
    },
    {
      "cell_type": "markdown",
      "source": [
        "Use the summary function to compare parameter numbers for vitB16 model and model created using this code"
      ],
      "metadata": {
        "id": "BIdcvRbrwyLj"
      }
    },
    {
      "cell_type": "code",
      "source": [
        "summary(model,input_size=(1,3,224,224))"
      ],
      "metadata": {
        "id": "gP6LW4Ll1FFB"
      },
      "execution_count": null,
      "outputs": []
    },
    {
      "cell_type": "code",
      "source": [
        "summary(model2,input_size=(1,3,384,384))"
      ],
      "metadata": {
        "id": "yOxrdkgML-mZ"
      },
      "execution_count": null,
      "outputs": []
    },
    {
      "cell_type": "code",
      "source": [
        "#Using vitB16 model from torchvision.models\n",
        "vitB16_weights = torchvision.models.ViT_B_16_Weights.DEFAULT\n",
        "vitB16_model = torchvision.models.vit_b_16(weights=vitB16_weights)\n",
        "\n",
        "summary(vitB16_model,input_size=(1,3,224,224))"
      ],
      "metadata": {
        "id": "o_pwbOJa4Y9X"
      },
      "execution_count": null,
      "outputs": []
    },
    {
      "cell_type": "markdown",
      "source": [
        "# Training"
      ],
      "metadata": {
        "id": "FmMvPbIravez"
      }
    },
    {
      "cell_type": "code",
      "source": [
        "def train(model, train_dataloader, loss_fn, optimizer, epochs, scheduler):\n",
        "\n",
        "  for epoch in range(epochs):\n",
        "    train_loss = 0\n",
        "    correct = 0\n",
        "    train_accuracy = 0\n",
        "\n",
        "    for batch, (X, y) in enumerate(train_dataloader):\n",
        "      #Move data to device\n",
        "      X, y = X.to(device), y.to(device)\n",
        "\n",
        "      # Calculate the prediction error\n",
        "      pred_probabilities = model(X)\n",
        "      pred = pred_probabilities.argmax(1)\n",
        "      loss = loss_fn(pred_probabilities, y)\n",
        "\n",
        "      # Backpropagation\n",
        "      optimizer.zero_grad()\n",
        "      loss.backward()\n",
        "      torch.nn.utils.clip_grad_norm_(model.parameters(), 1) #For ImageNet Pretraining and all Finetuning\n",
        "      optimizer.step()\n",
        "      scheduler.step()\n",
        "\n",
        "      #Updating the number of correct predictions\n",
        "      for i in range(len(pred)):\n",
        "        if pred[i] == y[i]:\n",
        "          correct += 1\n",
        "\n",
        "      train_loss += loss.item()\n",
        "\n",
        "    #Average training loss over all batches (for one epoch)\n",
        "    train_loss = train_loss/len(train_dataloader)\n",
        "    #Avarage Training accuracy over one iteration through the data (for one epoch)\n",
        "    train_accuracy = correct/len(train_dataloader.dataset) * 100\n",
        "\n",
        "    print(f'For epoch: {epoch} - Training Loss: {train_loss} - Training Accuracy: {train_accuracy}')"
      ],
      "metadata": {
        "id": "IkEJgdFWazCo"
      },
      "execution_count": 16,
      "outputs": []
    },
    {
      "cell_type": "markdown",
      "source": [
        "## Pretraining"
      ],
      "metadata": {
        "id": "2e7DDz6V0WLF"
      }
    },
    {
      "cell_type": "markdown",
      "source": [
        "Not all the hyperparameters I needed to write the pytorch code were found in the paper, so I had a look at the [original jax code repository](https://github.com/google-research/vision_transformer/blob/main/vit_jax/train.py) on Github and found the train.py and utils.py files in vision_transformer/vit_jax/"
      ],
      "metadata": {
        "id": "gFEJzBeBMcpZ"
      }
    },
    {
      "cell_type": "code",
      "source": [
        "train_dataloader = DataLoader(train_data, batch_size=4096, shuffle=True) #Batch size found in Section 4.1 SetUp -'Training & Fine-tuning'\n",
        "loss_fn = torch.nn.CrossEntropyLoss() #I found the loss used in line 48 of vision_transformer/vit_jax/train.py (from original code repo)\n",
        "optimizer = torch.optim.Adam(model.parameters(), lr=0.001,betas=(0.9,0.999),weight_decay=0.03) #Hyperparameters found in Table 3 and Section 4.1\n",
        "scheduler = torch.optim.lr_scheduler.CosineAnnealingLR(optimizer, 300*len(train_dataloader), 1e-5) #end factor found line 61 utils.py\n",
        "warmup_scheduler = WarmUpScheduler(optimizer, scheduler,\n",
        "                                   len_loader=len(train_dataloader),\n",
        "                                   warmup_steps=10000,\n",
        "                                   warmup_start_lr=0.001/10000,\n",
        "                                   warmup_mode='linear')\n",
        "\n",
        "\n",
        "train(model, train_dataloader, loss_fn, optimizer, 300, warmup_scheduler)\n"
      ],
      "metadata": {
        "id": "7hqISWdMgPkL"
      },
      "execution_count": null,
      "outputs": []
    },
    {
      "cell_type": "markdown",
      "source": [
        "## Finetuning"
      ],
      "metadata": {
        "id": "yK0m13ohzFz7"
      }
    },
    {
      "cell_type": "code",
      "source": [
        "#Using vitB16 model from torchvision.models\n",
        "vitB16_weights = torchvision.models.ViT_B_16_Weights.DEFAULT\n",
        "vitB16_model = torchvision.models.vit_b_16(weights=vitB16_weights)\n",
        "\n",
        "#Initialise a random pretrained model\n",
        "model = Vision_Transformer_Pretraining()\n",
        "\n",
        "#Transfer weights from vitB16 to randomly initialiseed model (Don't need this step\n",
        "# if you train a pretrained model yourself with Vision_Transformer_Pretraining)\n",
        "pretrained_model = vitB16_model_to_pretraining_model(vitB16_model,model)\n",
        "\n",
        "#Initialise a random finetuning model\n",
        "finetuning_model = Vision_Transformer_Finetuning()\n",
        "\n",
        "#Transfer weights from pretrained model to finetuining model\n",
        "finetuning_model = initialise_finetuning_parameters(finetuning_model,pretrained_model)"
      ],
      "metadata": {
        "id": "W5th6YH6WQPa"
      },
      "execution_count": 65,
      "outputs": []
    },
    {
      "cell_type": "code",
      "source": [
        "#Create training and test dataloaders. The batch size was found under Appendix B.1.1 - Finetuning (page 13)\n",
        "train_dataloader = DataLoader(train_data, batch_size=8, shuffle=True)\n",
        "test_batch_size = len(test_data)\n",
        "test_dataloader = DataLoader(test_data, 1, shuffle=False)"
      ],
      "metadata": {
        "id": "gE9iyu8_XGHU"
      },
      "execution_count": 66,
      "outputs": []
    },
    {
      "cell_type": "code",
      "source": [
        "torch.cuda.empty_cache()"
      ],
      "metadata": {
        "id": "aKc447aSXVsx"
      },
      "execution_count": 61,
      "outputs": []
    },
    {
      "cell_type": "code",
      "source": [
        "import os\n",
        "os.environ['PYTORCH_CUDA_ALLOC_CONF'] = 'expandable_segments:True'"
      ],
      "metadata": {
        "id": "t8L3LBsw72xG"
      },
      "execution_count": 20,
      "outputs": []
    },
    {
      "cell_type": "code",
      "source": [
        "device = \"cuda\" if torch.cuda.is_available() else \"cpu\"\n",
        "finetuning_model.to(device)"
      ],
      "metadata": {
        "id": "4cVtrd5_rEg1"
      },
      "execution_count": null,
      "outputs": []
    },
    {
      "cell_type": "code",
      "source": [
        "loss_fn = torch.nn.CrossEntropyLoss()\n",
        "optimizer = torch.optim.SGD(finetuning_model.parameters(), lr=0.001, momentum=0.9, weight_decay=0)\n",
        "scheduler = torch.optim.lr_scheduler.CosineAnnealingLR(optimizer, 500*len(train_dataloader), 1e-5) #Table 4\n",
        "\n",
        "batch_size = 70\n",
        "\n",
        "train(finetuning_model, train_dataloader, loss_fn, optimizer, epochs, scheduler)"
      ],
      "metadata": {
        "id": "x-x_0_8JzIfz",
        "colab": {
          "base_uri": "https://localhost:8080/"
        },
        "outputId": "a9450f0e-2f95-4f91-86cb-ec387ae7f8d8"
      },
      "execution_count": 69,
      "outputs": [
        {
          "output_type": "stream",
          "name": "stdout",
          "text": [
            "For epoch: 0 - Training Loss: 3.2910491124443384 - Training Accuracy: 48.20652173913044\n",
            "For epoch: 1 - Training Loss: 2.378184854465982 - Training Accuracy: 76.05978260869564\n",
            "For epoch: 2 - Training Loss: 1.6413141294665958 - Training Accuracy: 79.86413043478261\n",
            "For epoch: 3 - Training Loss: 1.2130005779473678 - Training Accuracy: 82.28260869565217\n",
            "For epoch: 4 - Training Loss: 1.0455683213213216 - Training Accuracy: 82.14673913043478\n",
            "For epoch: 5 - Training Loss: 0.9051577595265016 - Training Accuracy: 83.61413043478261\n",
            "For epoch: 6 - Training Loss: 0.8183574061030927 - Training Accuracy: 84.375\n",
            "For epoch: 7 - Training Loss: 0.7535558528226355 - Training Accuracy: 85.02717391304347\n",
            "For epoch: 8 - Training Loss: 0.7243552260424779 - Training Accuracy: 85.16304347826087\n",
            "For epoch: 9 - Training Loss: 0.7102991459162339 - Training Accuracy: 85.02717391304347\n",
            "For epoch: 10 - Training Loss: 0.6719776741836382 - Training Accuracy: 85.08152173913044\n",
            "For epoch: 11 - Training Loss: 0.618598246347645 - Training Accuracy: 86.79347826086956\n",
            "For epoch: 12 - Training Loss: 0.618101513904074 - Training Accuracy: 86.54891304347827\n",
            "For epoch: 13 - Training Loss: 0.5844051980130051 - Training Accuracy: 86.73913043478261\n",
            "For epoch: 14 - Training Loss: 0.5722732089459897 - Training Accuracy: 86.79347826086956\n",
            "For epoch: 15 - Training Loss: 0.560937383706155 - Training Accuracy: 86.84782608695653\n",
            "For epoch: 16 - Training Loss: 0.5668449406390604 - Training Accuracy: 86.6304347826087\n",
            "For epoch: 17 - Training Loss: 0.5480600990355015 - Training Accuracy: 87.03804347826087\n",
            "For epoch: 18 - Training Loss: 0.52993568688955 - Training Accuracy: 87.01086956521739\n",
            "For epoch: 19 - Training Loss: 0.5013563891305871 - Training Accuracy: 87.82608695652175\n",
            "For epoch: 20 - Training Loss: 0.5147231845266145 - Training Accuracy: 86.92934782608695\n",
            "For epoch: 21 - Training Loss: 0.48957698212369627 - Training Accuracy: 87.30978260869566\n",
            "For epoch: 22 - Training Loss: 0.46388878138816875 - Training Accuracy: 87.96195652173913\n",
            "For epoch: 23 - Training Loss: 0.4650525731399007 - Training Accuracy: 87.71739130434783\n",
            "For epoch: 24 - Training Loss: 0.4441091687459013 - Training Accuracy: 87.82608695652175\n",
            "For epoch: 25 - Training Loss: 0.4150340740447459 - Training Accuracy: 88.72282608695652\n",
            "For epoch: 26 - Training Loss: 0.4348413351842243 - Training Accuracy: 88.09782608695652\n",
            "For epoch: 27 - Training Loss: 0.40465055380178533 - Training Accuracy: 88.47826086956522\n",
            "For epoch: 28 - Training Loss: 0.40615059924514396 - Training Accuracy: 87.93478260869566\n",
            "For epoch: 29 - Training Loss: 0.39313015217042485 - Training Accuracy: 88.34239130434783\n",
            "For epoch: 30 - Training Loss: 0.34333465714007616 - Training Accuracy: 89.80978260869566\n",
            "For epoch: 31 - Training Loss: 0.3675401294037052 - Training Accuracy: 88.6413043478261\n",
            "For epoch: 32 - Training Loss: 0.3262754183748494 - Training Accuracy: 90.16304347826087\n",
            "For epoch: 33 - Training Loss: 0.3391131161428664 - Training Accuracy: 89.18478260869566\n",
            "For epoch: 34 - Training Loss: 0.3456453634587967 - Training Accuracy: 88.91304347826086\n",
            "For epoch: 35 - Training Loss: 0.335899281785216 - Training Accuracy: 88.8586956521739\n",
            "For epoch: 36 - Training Loss: 0.2974518794647377 - Training Accuracy: 90.625\n",
            "For epoch: 37 - Training Loss: 0.3005017520292946 - Training Accuracy: 89.94565217391305\n",
            "For epoch: 38 - Training Loss: 0.30836756630274265 - Training Accuracy: 89.15760869565217\n",
            "For epoch: 39 - Training Loss: 0.28381469397117265 - Training Accuracy: 90.43478260869566\n",
            "For epoch: 40 - Training Loss: 0.2887702585967339 - Training Accuracy: 89.91847826086956\n",
            "For epoch: 41 - Training Loss: 0.27906314513605573 - Training Accuracy: 90.51630434782608\n",
            "For epoch: 42 - Training Loss: 0.267580548706262 - Training Accuracy: 90.51630434782608\n",
            "For epoch: 43 - Training Loss: 0.2777759242397935 - Training Accuracy: 90.1086956521739\n",
            "For epoch: 44 - Training Loss: 0.25161511207242376 - Training Accuracy: 90.65217391304347\n",
            "For epoch: 45 - Training Loss: 0.25700434670662103 - Training Accuracy: 90.67934782608695\n",
            "For epoch: 46 - Training Loss: 0.24503325176546756 - Training Accuracy: 91.0054347826087\n",
            "For epoch: 47 - Training Loss: 0.2549683274579761 - Training Accuracy: 90.73369565217392\n",
            "For epoch: 48 - Training Loss: 0.23487618265511548 - Training Accuracy: 91.35869565217392\n",
            "For epoch: 49 - Training Loss: 0.23371168789251343 - Training Accuracy: 91.30434782608695\n",
            "For epoch: 50 - Training Loss: 0.22742999403777978 - Training Accuracy: 91.16847826086956\n",
            "For epoch: 51 - Training Loss: 0.2165810966418813 - Training Accuracy: 91.68478260869564\n",
            "For epoch: 52 - Training Loss: 0.2376058457540753 - Training Accuracy: 90.3804347826087\n",
            "For epoch: 53 - Training Loss: 0.22219130082622818 - Training Accuracy: 91.38586956521739\n",
            "For epoch: 54 - Training Loss: 0.21483062663237038 - Training Accuracy: 91.63043478260869\n",
            "For epoch: 55 - Training Loss: 0.22169880412276025 - Training Accuracy: 90.73369565217392\n",
            "For epoch: 56 - Training Loss: 0.2080282741975363 - Training Accuracy: 91.95652173913044\n",
            "For epoch: 57 - Training Loss: 0.20223998739384114 - Training Accuracy: 91.52173913043478\n",
            "For epoch: 58 - Training Loss: 0.21065736898706983 - Training Accuracy: 91.16847826086956\n",
            "For epoch: 59 - Training Loss: 0.19815686835664445 - Training Accuracy: 92.11956521739131\n",
            "For epoch: 60 - Training Loss: 0.20894271142821272 - Training Accuracy: 91.25\n",
            "For epoch: 61 - Training Loss: 0.19366917090045047 - Training Accuracy: 91.82065217391305\n",
            "For epoch: 62 - Training Loss: 0.18720059359810598 - Training Accuracy: 92.33695652173914\n",
            "For epoch: 63 - Training Loss: 0.19388232006812872 - Training Accuracy: 91.65760869565217\n",
            "For epoch: 64 - Training Loss: 0.18508920207538682 - Training Accuracy: 92.36413043478261\n",
            "For epoch: 65 - Training Loss: 0.1923389158272387 - Training Accuracy: 91.82065217391305\n",
            "For epoch: 66 - Training Loss: 0.18433742825468274 - Training Accuracy: 92.36413043478261\n",
            "For epoch: 67 - Training Loss: 0.18335704176038828 - Training Accuracy: 92.30978260869566\n",
            "For epoch: 68 - Training Loss: 0.19093856701789344 - Training Accuracy: 91.22282608695652\n",
            "For epoch: 69 - Training Loss: 0.16687969832438165 - Training Accuracy: 92.85326086956522\n"
          ]
        }
      ]
    },
    {
      "cell_type": "markdown",
      "source": [
        "# Testing"
      ],
      "metadata": {
        "id": "t60pg_ZP0j88"
      }
    },
    {
      "cell_type": "code",
      "source": [
        "from tqdm import tqdm"
      ],
      "metadata": {
        "id": "GhRuVhak9ZJB"
      },
      "execution_count": 54,
      "outputs": []
    },
    {
      "cell_type": "code",
      "source": [
        "def test(model, test_data, loss_fn):\n",
        "  model.eval()\n",
        "  model.to(device)\n",
        "\n",
        "  with torch.inference_mode():\n",
        "    test_loss = 0\n",
        "    correct = 0\n",
        "    test_accuracy = 0\n",
        "\n",
        "    for i in tqdm(range(len(test_data))):\n",
        "      X, y = test_data[i][0], test_data[i][1]\n",
        "      X = X.unsqueeze(0)\n",
        "      X, y = torch.tensor(X).to(device), torch.tensor([y]).to(device)\n",
        "      # Calculate the prediction error\n",
        "      pred_probabilities = model(X)\n",
        "      pred = pred_probabilities.argmax(1)\n",
        "      loss = loss_fn(pred_probabilities, y)\n",
        "\n",
        "      if pred == y:\n",
        "        correct += 1\n",
        "\n",
        "      test_loss += loss.item()\n",
        "\n",
        "    #Average test loss over batches\n",
        "    test_loss = test_loss/len(test_data)\n",
        "    #Test accuracy for batch\n",
        "    test_accuracy = correct/len(test_data) * 100\n",
        "\n",
        "    print(f'Testing Loss: {test_loss} - Testing Accuracy: {test_accuracy}')"
      ],
      "metadata": {
        "id": "eMB2V9z50hlo"
      },
      "execution_count": 55,
      "outputs": []
    },
    {
      "cell_type": "code",
      "source": [
        "test(finetuning_model, test_data, loss_fn)"
      ],
      "metadata": {
        "colab": {
          "base_uri": "https://localhost:8080/"
        },
        "id": "nsY_2lWE3EL4",
        "outputId": "98eb45fd-e539-4edf-e12e-db273d0acfd0"
      },
      "execution_count": 70,
      "outputs": [
        {
          "output_type": "stream",
          "name": "stderr",
          "text": [
            "  0%|          | 0/3669 [00:00<?, ?it/s]<ipython-input-55-0de323bdcfc0>:13: UserWarning: To copy construct from a tensor, it is recommended to use sourceTensor.clone().detach() or sourceTensor.clone().detach().requires_grad_(True), rather than torch.tensor(sourceTensor).\n",
            "  X, y = torch.tensor(X).to(device), torch.tensor([y]).to(device)\n",
            "100%|██████████| 3669/3669 [01:15<00:00, 48.44it/s]"
          ]
        },
        {
          "output_type": "stream",
          "name": "stdout",
          "text": [
            "Testing Loss: 0.29556379368295893 - Training Accuracy: 92.28672662850913\n"
          ]
        },
        {
          "output_type": "stream",
          "name": "stderr",
          "text": [
            "\n"
          ]
        }
      ]
    }
  ]
}
